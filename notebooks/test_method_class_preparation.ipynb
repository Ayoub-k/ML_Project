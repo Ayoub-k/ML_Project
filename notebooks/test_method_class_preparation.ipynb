{
 "cells": [
  {
   "cell_type": "markdown",
   "id": "1b79f8aa-f6d8-4c59-8975-f5220150fbf8",
   "metadata": {},
   "source": [
    "# In this class we will test some method like Z-score"
   ]
  },
  {
   "cell_type": "code",
   "execution_count": 1,
   "id": "826d3be4-7940-44fc-bdb9-556ffce4522f",
   "metadata": {},
   "outputs": [],
   "source": [
    "import sys"
   ]
  },
  {
   "cell_type": "code",
   "execution_count": 2,
   "id": "86a4f4df-9d46-4377-8db8-a70721e61c4a",
   "metadata": {},
   "outputs": [],
   "source": [
    "sys.path.append('/home/ay/FullStackMLDataScience/Projects/ML_Project/')"
   ]
  },
  {
   "cell_type": "markdown",
   "id": "d354f6f4-ac43-40e5-9cff-73330ef93b2a",
   "metadata": {
    "jp-MarkdownHeadingCollapsed": true
   },
   "source": [
    "### Evaluation"
   ]
  },
  {
   "cell_type": "code",
   "execution_count": 11,
   "id": "79f0f8d6-2d01-4e6c-ac95-3c9910829774",
   "metadata": {},
   "outputs": [],
   "source": [
    "import requests\n",
    "import numpy as np\n",
    "import matplotlib.pyplot as plt\n",
    "import pandas as pd\n",
    "from io import StringIO\n",
    "from sklearn.pipeline import make_pipeline\n",
    "import matplotlib.pyplot as plt\n",
    "from tabulate import tabulate\n",
    "\n",
    "from sklearn.metrics import (\n",
    "    accuracy_score,\n",
    "    precision_score,\n",
    "    recall_score,\n",
    "    f1_score,\n",
    "    confusion_matrix,\n",
    "    roc_auc_score,\n",
    "    classification_report,\n",
    "    ConfusionMatrixDisplay\n",
    ")\n",
    "from sklearn.metrics import (\n",
    "    mean_squared_error,\n",
    "    mean_absolute_error,\n",
    "    r2_score,\n",
    "    explained_variance_score,\n",
    ")\n",
    "from sklearn.model_selection import (\n",
    "    train_test_split,\n",
    "    KFold,\n",
    "    StratifiedKFold,\n",
    "    ShuffleSplit,\n",
    "    TimeSeriesSplit\n",
    ")"
   ]
  },
  {
   "cell_type": "code",
   "execution_count": 12,
   "id": "23816625-771a-4d84-ac31-61829b9b2671",
   "metadata": {
    "scrolled": true
   },
   "outputs": [],
   "source": [
    "df = pd.read_csv('../data/placement.csv')"
   ]
  },
  {
   "cell_type": "code",
   "execution_count": 240,
   "id": "8a0a3f81-9e2f-4a74-803c-cef1d808203b",
   "metadata": {},
   "outputs": [
    {
     "data": {
      "text/plain": [
       "[]"
      ]
     },
     "execution_count": 240,
     "metadata": {},
     "output_type": "execute_result"
    }
   ],
   "source": [
    "columns_list = df.columns[df.isna().any()].tolist()\n",
    "columns_list"
   ]
  },
  {
   "cell_type": "code",
   "execution_count": 270,
   "id": "b1783ba0-e27f-4a0a-81ca-9627a882c119",
   "metadata": {},
   "outputs": [],
   "source": [
    "from sklearn.metrics import (\n",
    "    accuracy_score,\n",
    "    precision_score,\n",
    "    recall_score,\n",
    "    f1_score,\n",
    "    confusion_matrix,\n",
    "    roc_auc_score,\n",
    "    classification_report,\n",
    "    ConfusionMatrixDisplay\n",
    ")\n",
    "import pandas as pd\n",
    "import numpy as np\n",
    "\n",
    "class ClassificationEvaluator:\n",
    "    \"\"\"\n",
    "    A class for evaluating classification models using various metrics.\n",
    "\n",
    "    Args:\n",
    "    - y_true (array-like): The true labels.\n",
    "    - y_pred (array-like): The predicted labels.\n",
    "\n",
    "    Methods:\n",
    "    - accuracy(): Compute the accuracy score.\n",
    "    - precision(average=None): Compute the precision score.\n",
    "    - recall(average=None): Compute the recall score.\n",
    "    - f1_score(average=None): Compute the F1 score.\n",
    "    - confusion_matrix(): Compute the confusion matrix.\n",
    "    - roc_auc(average='macro'): Compute the ROC AUC score.\n",
    "    - print_metrics_table(average=None):\n",
    "        Print a table of all evaluation metrics.\n",
    "\n",
    "    Example Usage:\n",
    "    ```\n",
    "    y_true = [0, 1, 0, 1, 1]\n",
    "    y_pred = [0, 0, 1, 1, 1]\n",
    "\n",
    "    evaluator = ClassificationEvaluator(y_true, y_pred)\n",
    "    print(\"Accuracy:\", evaluator.accuracy())\n",
    "    print(\"Precision:\", evaluator.precision())\n",
    "    print(\"Recall:\", evaluator.recall())\n",
    "    print(\"F1 Score:\", evaluator.f1_score())\n",
    "    print(\"Confusion Matrix:\")\n",
    "    print(evaluator.confusion_matrix())\n",
    "    evaluator.print_metrics_table()\n",
    "    ```\n",
    "    \"\"\"\n",
    "\n",
    "    def __init__(self, y_true, y_pred):\n",
    "        self.y_true = np.array(y_true)\n",
    "        self.y_pred = np.array(y_pred)\n",
    "\n",
    "    def accuracy(self):\n",
    "        return accuracy_score(self.y_true, self.y_pred)\n",
    "\n",
    "    def precision(self, average=None):\n",
    "        return precision_score(self.y_true, self.y_pred, average=average)\n",
    "\n",
    "    def recall(self, average=None):\n",
    "        return recall_score(self.y_true, self.y_pred, average=average)\n",
    "\n",
    "    def f1_score(self, average=None):\n",
    "        return f1_score(self.y_true, self.y_pred, average=average)\n",
    "\n",
    "    def confusion_matrix(self):\n",
    "        return confusion_matrix(self.y_true, self.y_pred)\n",
    "\n",
    "    def roc_auc(self, average='macro', multi_class=None):\n",
    "        return roc_auc_score(self.y_true, self.y_pred, average=average, multi_class=multi_class)\n",
    "\n",
    "    def print_metrics_table(self, average=None, multi_class=None):\n",
    "        metrics = {\n",
    "            'Accuracy': self.accuracy(),\n",
    "            'Precision': self.precision(average=average),\n",
    "            'Recall': self.recall(average=average),\n",
    "            'F1 Score': self.f1_score(average=average),\n",
    "            #'ROC AUC': self.roc_auc(average=average, multi_class=multi_class)\n",
    "        }\n",
    "        df = pd.DataFrame(metrics) # , index=['Metrics']\n",
    "        print(df)\n",
    "\n",
    "    def plot_confusion_matrix(self, normalize=False, cmap='Blues'):\n",
    "        \"\"\"\n",
    "        Plot the confusion matrix.\n",
    "\n",
    "        Args:\n",
    "        - normalize (bool, optional): Whether to normalize the confusion matrix. Default is False.\n",
    "        - cmap (str or colormap, optional): The colormap to use. Default is 'Blues'.\n",
    "        \"\"\"\n",
    "        cm = confusion_matrix(self.y_true, self.y_pred, normalize='true' if normalize else None)\n",
    "        labels = np.unique(self.y_true)\n",
    "        disp = ConfusionMatrixDisplay(confusion_matrix=cm, display_labels=labels)\n",
    "        disp.plot(cmap=cmap)\n",
    "        plt.title('Confusion Matrix')\n",
    "        plt.show()\n",
    "\n",
    "    def plot_confusion_matrix2(self, normalize: bool=False, cmap: str='Blues') -> None:\n",
    "        \"\"\"\n",
    "        Plot the confusion matrix.\n",
    "\n",
    "        Args:\n",
    "            normalize (bool, optional): Whether to normalize the confusion matrix. Default is False.\n",
    "            cmap (str, optional): The colormap to use for the plot. Default is 'Blues'.\n",
    "        \"\"\"\n",
    "        cme = self.confusion_matrix()\n",
    "        display = ConfusionMatrixDisplay(\n",
    "            confusion_matrix=cme,\n",
    "            display_labels=np.unique(self.y_true)\n",
    "        )\n",
    "        display.plot(\n",
    "            include_values=True,\n",
    "            cmap=cmap, ax=plt.gca(),\n",
    "            xticks_rotation='horizontal'\n",
    "        )\n",
    "        plt.show()"
   ]
  },
  {
   "cell_type": "code",
   "execution_count": 271,
   "id": "529d06d4-170b-445a-a5cb-09757fbc3f5c",
   "metadata": {},
   "outputs": [
    {
     "name": "stdout",
     "output_type": "stream",
     "text": [
      "Accuracy: 0.6\n",
      "Precision: [0.5        0.66666667]\n",
      "Recall: [0.5        0.66666667]\n",
      "F1 Score: [0.5        0.66666667]\n",
      "Confusion Matrix:\n",
      "[[1 1]\n",
      " [1 2]]\n",
      "   Accuracy  Precision    Recall  F1 Score\n",
      "0       0.6   0.500000  0.500000  0.500000\n",
      "1       0.6   0.666667  0.666667  0.666667\n"
     ]
    },
    {
     "data": {
      "image/png": "[encoded data removed]",
      "text/plain": [
       "<Figure size 640x480 with 2 Axes>"
      ]
     },
     "metadata": {},
     "output_type": "display_data"
    }
   ],
   "source": [
    "y_true = [0, 1, 0, 1, 1]\n",
    "y_pred = [0, 0, 1, 1, 1]\n",
    "\n",
    "evaluator = ClassificationEvaluator(y_true, y_pred)\n",
    "print(\"Accuracy:\", evaluator.accuracy())\n",
    "print(\"Precision:\", evaluator.precision())\n",
    "print(\"Recall:\", evaluator.recall())\n",
    "print(\"F1 Score:\", evaluator.f1_score())\n",
    "print(\"Confusion Matrix:\")\n",
    "print(evaluator.confusion_matrix())\n",
    "evaluator.print_metrics_table()\n",
    "evaluator.plot_confusion_matrix2()"
   ]
  },
  {
   "cell_type": "code",
   "execution_count": 272,
   "id": "9ef6c9c0-7268-4aa1-a9f7-18735f36aae5",
   "metadata": {},
   "outputs": [
    {
     "name": "stdout",
     "output_type": "stream",
     "text": [
      "Accuracy: 1.0\n",
      "Precision: [1. 1. 1.]\n",
      "Recall: [1. 1. 1.]\n",
      "F1 Score: [1. 1. 1.]\n",
      "Confusion Matrix:\n",
      "[[10  0  0]\n",
      " [ 0  9  0]\n",
      " [ 0  0 11]]\n",
      "   Accuracy  Precision  Recall  F1 Score\n",
      "0       1.0        1.0     1.0       1.0\n",
      "1       1.0        1.0     1.0       1.0\n",
      "2       1.0        1.0     1.0       1.0\n"
     ]
    },
    {
     "data": {
      "image/png": "[encoded data removed]",
      "text/plain": [
       "<Figure size 640x480 with 2 Axes>"
      ]
     },
     "metadata": {},
     "output_type": "display_data"
    }
   ],
   "source": [
    "from sklearn.datasets import load_iris\n",
    "from sklearn.model_selection import train_test_split\n",
    "from sklearn.linear_model import LogisticRegression\n",
    "\n",
    "# Load the Iris dataset\n",
    "data = load_iris()\n",
    "X = data.data\n",
    "y = data.target\n",
    "\n",
    "# Split the data into train and test sets\n",
    "X_train, X_test, y_train, y_test = train_test_split(X, y, test_size=0.2, random_state=42)\n",
    "\n",
    "# Train a logistic regression model\n",
    "model = LogisticRegression(max_iter=1000)\n",
    "model.fit(X_train, y_train)\n",
    "\n",
    "# Predict on the test set\n",
    "y_pred = model.predict(X_test)\n",
    "y_prob = model.predict_proba(X_test)\n",
    "\n",
    "evaluator = ClassificationEvaluator(y_test, y_pred)\n",
    "print(\"Accuracy:\", evaluator.accuracy())\n",
    "print(\"Precision:\", evaluator.precision())\n",
    "print(\"Recall:\", evaluator.recall())\n",
    "print(\"F1 Score:\", evaluator.f1_score())\n",
    "print(\"Confusion Matrix:\")\n",
    "print(evaluator.confusion_matrix())\n",
    "evaluator.print_metrics_table()\n",
    "evaluator.plot_confusion_matrix2()"
   ]
  },
  {
   "cell_type": "code",
   "execution_count": 290,
   "id": "389dafa7-1e95-4c6d-8e62-c4d2a3774cb2",
   "metadata": {},
   "outputs": [],
   "source": [
    "import numpy as np\n",
    "from sklearn.metrics import (\n",
    "    mean_squared_error,\n",
    "    mean_absolute_error,\n",
    "    r2_score,\n",
    "    explained_variance_score,\n",
    ")\n",
    "\n",
    "class RegressionEvaluator:\n",
    "    \"\"\"\n",
    "    A class for evaluating regression models using various metrics.\n",
    "\n",
    "    Args:\n",
    "        y_true (array-like): The true target values.\n",
    "        y_pred (array-like): The predicted target values.\n",
    "\n",
    "    Methods:\n",
    "        mean_squared_error(): Compute the mean squared error.\n",
    "        mean_absolute_error(): Compute the mean absolute error.\n",
    "        r2_score(): Compute the coefficient of determination (R^2 score).\n",
    "        explained_variance_score(): Compute the explained variance score.\n",
    "        root_mean_squared_error(): Compute the root mean squared error.\n",
    "        adjusted_r_squared(): Compute the adjusted R^2 score.\n",
    "        print_metrics_table():\n",
    "            Print a table of all evaluation metrics.\n",
    "\n",
    "    Example Usage:\n",
    "        >>> y_true = [2.5, 1.5, 3.2, 4.0, 2.8]\n",
    "        >>> y_pred = [2.0, 1.8, 3.5, 3.9, 2.6]\n",
    "        >>> evaluator = RegressionEvaluator(y_true, y_pred)\n",
    "        >>> print(\"Mean Squared Error:\", evaluator.mean_squared_error())\n",
    "        >>> print(\"Mean Absolute Error:\", evaluator.mean_absolute_error())\n",
    "        >>> print(\"R^2 Score:\", evaluator.r2_score())\n",
    "        >>> print(\"Explained Variance Score:\", evaluator.explained_variance_score())\n",
    "        >>> print(\"Root Mean Squared Error:\", evaluator.root_mean_squared_error())\n",
    "        >>> print(\"Adjusted R^2 Score:\", evaluator.adjusted_r_squared())\n",
    "        >>> evaluator.print_metrics_table()\n",
    "    \"\"\"\n",
    "\n",
    "    def __init__(self, y_true: np.ndarray, y_pred: np.ndarray):\n",
    "        self.y_true = np.array(y_true)\n",
    "        self.y_pred = np.array(y_pred)\n",
    "\n",
    "    def mean_squared_error(self) -> float:\n",
    "        \"\"\"\n",
    "        Compute the mean squared error.\n",
    "\n",
    "        Returns:\n",
    "            Mean squared error (float): The computed mean squared error.\n",
    "        \"\"\"\n",
    "        return mean_squared_error(self.y_true, self.y_pred)\n",
    "\n",
    "    def mean_absolute_error(self) -> float:\n",
    "        \"\"\"\n",
    "        Compute the mean absolute error.\n",
    "\n",
    "        Returns:\n",
    "            Mean absolute error (float): The computed mean absolute error.\n",
    "        \"\"\"\n",
    "        return mean_absolute_error(self.y_true, self.y_pred)\n",
    "\n",
    "    def r2_score(self) -> float:\n",
    "        \"\"\"\n",
    "        Compute the coefficient of determination (R^2 score).\n",
    "\n",
    "        Returns:\n",
    "            R^2 score (float): The computed coefficient of determination (R^2 score).\n",
    "        \"\"\"\n",
    "        return r2_score(self.y_true, self.y_pred)\n",
    "\n",
    "    def explained_variance_score(self) -> float:\n",
    "        \"\"\"\n",
    "        Compute the explained variance score.\n",
    "\n",
    "        Returns:\n",
    "            Explained variance score (float): The computed explained variance score.\n",
    "        \"\"\"\n",
    "        return explained_variance_score(self.y_true, self.y_pred)\n",
    "\n",
    "    def root_mean_squared_error(self) -> float:\n",
    "        \"\"\"\n",
    "        Compute the root mean squared error.\n",
    "\n",
    "        Returns:\n",
    "            Root mean squared error (float): The computed root mean squared error.\n",
    "        \"\"\"\n",
    "        mse = self.mean_squared_error()\n",
    "        return np.sqrt(mse)\n",
    "\n",
    "    def adjusted_r_squared(self, num_features: int=None) -> float:\n",
    "        \"\"\"\n",
    "        Compute the adjusted R^2 score.\n",
    "\n",
    "        Returns:\n",
    "            Adjusted R^2 score (float): The computed adjusted R^2 score.\n",
    "        \"\"\"\n",
    "        if num_features is None:\n",
    "            return None\n",
    "        r2 = self.r2_score()\n",
    "        n = len(self.y_true)\n",
    "        p = num_features\n",
    "        adjusted_r2 = 1 - (1 - r2) * (n - 1) / (n - p - 1)\n",
    "        return adjusted_r2\n",
    "\n",
    "    def print_metrics_table(self, num_features: int=None) -> None:\n",
    "        \"\"\"\n",
    "        Print a table of all evaluation metrics.\n",
    "        \"\"\"\n",
    "        metrics = [\n",
    "            ('Mean Squared Error', self.mean_squared_error()),\n",
    "            ('Mean Absolute Error', self.mean_absolute_error()),\n",
    "            ('R^2 Score', self.r2_score()),\n",
    "            ('Explained Variance Score', self.explained_variance_score()),\n",
    "            ('Root Mean Squared Error', self.root_mean_squared_error()),\n",
    "            ('Adjusted R^2 Score', self.adjusted_r_squared(num_features)),\n",
    "        ]\n",
    "        headers = [\"Metric\", \"Value\"]\n",
    "        print(tabulate(metrics, headers=headers, tablefmt='fancy_grid'))"
   ]
  },
  {
   "cell_type": "code",
   "execution_count": 292,
   "id": "3365b580-3b1c-415a-ab1e-0616a1a2eecf",
   "metadata": {},
   "outputs": [
    {
     "name": "stdout",
     "output_type": "stream",
     "text": [
      "Mean Squared Error: 0.09599999999999997\n",
      "Mean Absolute Error: 0.2799999999999999\n",
      "R^2 Score: 0.8579881656804734\n",
      "Explained Variance Score: 0.8603550295857989\n",
      "Root Mean Squared Error: 0.3098386676965933\n",
      "Adjusted R^2 Score: 1.0946745562130178\n",
      "╒══════════════════════════╤══════════╕\n",
      "│ Metric                   │    Value │\n",
      "╞══════════════════════════╪══════════╡\n",
      "│ Mean Squared Error       │ 0.096    │\n",
      "├──────────────────────────┼──────────┤\n",
      "│ Mean Absolute Error      │ 0.28     │\n",
      "├──────────────────────────┼──────────┤\n",
      "│ R^2 Score                │ 0.857988 │\n",
      "├──────────────────────────┼──────────┤\n",
      "│ Explained Variance Score │ 0.860355 │\n",
      "├──────────────────────────┼──────────┤\n",
      "│ Root Mean Squared Error  │ 0.309839 │\n",
      "├──────────────────────────┼──────────┤\n",
      "│ Adjusted R^2 Score       │ 1.09467  │\n",
      "╘══════════════════════════╧══════════╛\n"
     ]
    }
   ],
   "source": [
    "y_true = [2.5, 1.5, 3.2, 4.0, 2.8]\n",
    "y_pred = [2.0, 1.8, 3.5, 3.9, 2.6]\n",
    "evaluator = RegressionEvaluator(y_true, y_pred)\n",
    "print(\"Mean Squared Error:\", evaluator.mean_squared_error())\n",
    "print(\"Mean Absolute Error:\", evaluator.mean_absolute_error())\n",
    "print(\"R^2 Score:\", evaluator.r2_score())\n",
    "print(\"Explained Variance Score:\", evaluator.explained_variance_score())\n",
    "print(\"Root Mean Squared Error:\", evaluator.root_mean_squared_error())\n",
    "print(\"Adjusted R^2 Score:\", evaluator.adjusted_r_squared(10))\n",
    "evaluator.print_metrics_table(10)"
   ]
  },
  {
   "cell_type": "markdown",
   "id": "180a5b2c-ac2d-45ba-ab79-27514d477766",
   "metadata": {
    "jp-MarkdownHeadingCollapsed": true
   },
   "source": [
    "### Splitter"
   ]
  },
  {
   "cell_type": "code",
   "execution_count": 328,
   "id": "dae6da50-fa3e-4c2e-89ee-346245a60534",
   "metadata": {},
   "outputs": [],
   "source": [
    "class DataSplitter:\n",
    "    \"\"\"\n",
    "    A class for splitting data using different techniques.\n",
    "\n",
    "    Args:\n",
    "        X (array-like): The feature matrix.\n",
    "        y (array-like): The target variable.\n",
    "\n",
    "    Methods:\n",
    "        train_test_split_data(test_size=0.2, random_state=None):\n",
    "            Split the data using train-test split technique.\n",
    "        kfold_split_data(n_splits=5):\n",
    "            Split the data using K-fold cross-validation technique.\n",
    "        stratified_kfold_split_data(n_splits=5):\n",
    "            Split the data using stratified K-fold cross-validation technique.\n",
    "        shuffle_split_data(n_splits=5, test_size=0.2, random_state=None):\n",
    "            Split the data using shuffle split technique.\n",
    "        time_series_split_data(n_splits=5):\n",
    "            Split the data using time series split technique.\n",
    "\n",
    "    Returns:\n",
    "        The split data: X_train, X_test, y_train, y_test\n",
    "\n",
    "    Examples:\n",
    "        >>> splitter = DataSplitter(X, y)\n",
    "        >>> X_train, X_test, y_train, y_test = splitter.train_test_split_data(test_size=0.2)\n",
    "        >>> kf_splits = splitter.kfold_split_data(n_splits=5)\n",
    "        >>> skf_splits = splitter.stratified_kfold_split_data(n_splits=5)\n",
    "        >>> shuffle_splits = splitter.shuffle_split_data(n_splits=5, test_size=0.2)\n",
    "        >>> tscv_splits = splitter.time_series_split_data(n_splits=5)\n",
    "    \"\"\"\n",
    "\n",
    "    def __init__(self,\n",
    "        X: Union[pd.DataFrame, pd.Series, np.ndarray],\n",
    "        y: Union[pd.Series, np.ndarray]\n",
    "    ) -> None:\n",
    "        \"\"\"\n",
    "        X (array-like): The feature matrix.\n",
    "        y (array-like): The target variable.\n",
    "        \"\"\"\n",
    "        self.X = X\n",
    "        self.y = y\n",
    "\n",
    "    def train_test_split_data(self, test_size: float = 0.2, random_state: int = 42) -> Tuple:\n",
    "        \"\"\"\n",
    "        Split the data using train-test split technique.\n",
    "\n",
    "        Args:\n",
    "            test_size (float, optional): The proportion of the data to include in the test split.\n",
    "                Default is 0.2 (20%).\n",
    "            random_state (int, optional): The seed used by the random number generator.\n",
    "                Default is None.\n",
    "\n",
    "        Returns:\n",
    "            Tuple: The split data: X_train, X_test, y_train, y_test\n",
    "        \"\"\"\n",
    "        X_train, X_test, y_train, y_test = train_test_split(\n",
    "            self.X, self.y, test_size=test_size, random_state=random_state\n",
    "        )\n",
    "        return X_train, X_test, y_train, y_test\n",
    "\n",
    "    def kfold_split_data(self, n_splits: int) -> List[Tuple]:\n",
    "        \"\"\"\n",
    "        Split the data into K folds for cross-validation.\n",
    "    \n",
    "        Args:\n",
    "            n_splits (int): The number of folds to create.\n",
    "    \n",
    "        Returns:\n",
    "            List[Tuple]: A list of K folds, each containing the split data: (X_train, X_test, y_train, y_test).\n",
    "        \"\"\"\n",
    "        kfold = KFold(n_splits=n_splits)\n",
    "        splits = []\n",
    "        for train_index, test_index in kfold.split(self.X):\n",
    "            X_train, X_test = self.X.iloc[train_index], self.X.iloc[test_index]\n",
    "            y_train, y_test = self.y.iloc[train_index], self.y.iloc[test_index]\n",
    "            splits.append((X_train, X_test, y_train, y_test))\n",
    "        return splits\n",
    "    \n",
    "    def stratified_kfold_split_data(self, n_splits: int = 5) -> List[Tuple]:\n",
    "        \"\"\"\n",
    "        Split the data using stratified K-fold cross-validation technique.\n",
    "\n",
    "        Args:\n",
    "            n_splits (int, optional): The number of folds to create. Default is 5.\n",
    "\n",
    "        Returns:\n",
    "            List[Tuple]: List of tuples containing the split data:\n",
    "                X_train, X_test, y_train, y_test for each fold.\n",
    "        \"\"\"\n",
    "        skf = StratifiedKFold(n_splits=n_splits)\n",
    "        splits = []\n",
    "        for train_index, test_index in skf.split(self.X, self.y):\n",
    "            X_train, X_test = self.X.iloc[train_index], self.X.iloc[test_index]\n",
    "            y_train, y_test = self.y.iloc[train_index], self.y.iloc[test_index]\n",
    "            splits.append((X_train, X_test, y_train, y_test))\n",
    "        return splits\n",
    "\n",
    "    def shuffle_split_data(self,\n",
    "        n_splits: int = 5, test_size: float = 0.2,\n",
    "        random_state: int = 42\n",
    "    ) -> List[Tuple]:\n",
    "        \"\"\"\n",
    "        Split the data using shuffle split technique.\n",
    "\n",
    "        Args:\n",
    "            n_splits (int, optional): The number of re-shuffling and splitting iterations.\n",
    "                Default is 5.\n",
    "            test_size (float, optional): The proportion of the data to include in the test split.\n",
    "                Default is 0.2 (20%).\n",
    "            random_state (int, optional): The seed used by the random number generator.\n",
    "                Default is None.\n",
    "\n",
    "        Returns:\n",
    "            List[Tuple]: List of tuples containing the split data:\n",
    "                X_train, X_test, y_train, y_test for each iteration.\n",
    "        \"\"\"\n",
    "        shflts = ShuffleSplit(n_splits=n_splits, test_size=test_size, random_state=random_state)\n",
    "        splits = []\n",
    "        for train_index, test_index in shflts.split(self.X):\n",
    "            X_train, X_test = self.X.iloc[train_index], self.X.iloc[test_index]\n",
    "            y_train, y_test = self.y.iloc[train_index], self.y.iloc[test_index]\n",
    "            splits.append((X_train, X_test, y_train, y_test))\n",
    "        return splits\n",
    "\n",
    "    def time_series_split_data(self, n_splits: int = 5) -> List[Tuple]:\n",
    "        \"\"\"\n",
    "        Split the data using time series split technique.\n",
    "\n",
    "        Args:\n",
    "            n_splits (int, optional): The number of splits. Default is 5.\n",
    "\n",
    "        Returns:\n",
    "            List[Tuple]: List of tuples containing the split data:\n",
    "                X_train, X_test, y_train, y_test for each split.\n",
    "        \"\"\"\n",
    "        tscv = TimeSeriesSplit(n_splits=n_splits)\n",
    "        splits = []\n",
    "        for train_index, test_index in tscv.split(self.X):\n",
    "            X_train, X_test = self.X.iloc[train_index], self.X.iloc[test_index]\n",
    "            y_train, y_test = self.y.iloc[train_index], self.y.iloc[test_index]\n",
    "            splits.append((X_train, X_test, y_train, y_test))\n",
    "        return splits"
   ]
  },
  {
   "cell_type": "code",
   "execution_count": null,
   "id": "2c3f5c12-e05c-4875-9567-09aacde63b3a",
   "metadata": {},
   "outputs": [],
   "source": []
  },
  {
   "cell_type": "code",
   "execution_count": 297,
   "id": "7b04666e-3f55-42a6-b083-d4a12ebac706",
   "metadata": {},
   "outputs": [
    {
     "data": {
      "text/plain": [
       "\u001b[0;31mInit signature:\u001b[0m\n",
       "\u001b[0mDataSplitter\u001b[0m\u001b[0;34m(\u001b[0m\u001b[0;34m\u001b[0m\n",
       "\u001b[0;34m\u001b[0m    \u001b[0mX\u001b[0m\u001b[0;34m:\u001b[0m \u001b[0mUnion\u001b[0m\u001b[0;34m[\u001b[0m\u001b[0mpandas\u001b[0m\u001b[0;34m.\u001b[0m\u001b[0mcore\u001b[0m\u001b[0;34m.\u001b[0m\u001b[0mframe\u001b[0m\u001b[0;34m.\u001b[0m\u001b[0mDataFrame\u001b[0m\u001b[0;34m,\u001b[0m \u001b[0mpandas\u001b[0m\u001b[0;34m.\u001b[0m\u001b[0mcore\u001b[0m\u001b[0;34m.\u001b[0m\u001b[0mseries\u001b[0m\u001b[0;34m.\u001b[0m\u001b[0mSeries\u001b[0m\u001b[0;34m,\u001b[0m \u001b[0mnumpy\u001b[0m\u001b[0;34m.\u001b[0m\u001b[0mndarray\u001b[0m\u001b[0;34m]\u001b[0m\u001b[0;34m,\u001b[0m\u001b[0;34m\u001b[0m\n",
       "\u001b[0;34m\u001b[0m    \u001b[0my\u001b[0m\u001b[0;34m:\u001b[0m \u001b[0mUnion\u001b[0m\u001b[0;34m[\u001b[0m\u001b[0mpandas\u001b[0m\u001b[0;34m.\u001b[0m\u001b[0mcore\u001b[0m\u001b[0;34m.\u001b[0m\u001b[0mseries\u001b[0m\u001b[0;34m.\u001b[0m\u001b[0mSeries\u001b[0m\u001b[0;34m,\u001b[0m \u001b[0mnumpy\u001b[0m\u001b[0;34m.\u001b[0m\u001b[0mndarray\u001b[0m\u001b[0;34m]\u001b[0m\u001b[0;34m,\u001b[0m\u001b[0;34m\u001b[0m\n",
       "\u001b[0;34m\u001b[0m\u001b[0;34m)\u001b[0m \u001b[0;34m->\u001b[0m \u001b[0;32mNone\u001b[0m\u001b[0;34m\u001b[0m\u001b[0;34m\u001b[0m\u001b[0m\n",
       "\u001b[0;31mDocstring:\u001b[0m     \n",
       "A class for splitting data using different techniques.\n",
       "\n",
       "Args:\n",
       "    X (array-like): The feature matrix.\n",
       "    y (array-like): The target variable.\n",
       "\n",
       "Methods:\n",
       "    train_test_split_data(test_size=0.2, random_state=None):\n",
       "        Split the data using train-test split technique.\n",
       "    kfold_split_data(n_splits=5):\n",
       "        Split the data using K-fold cross-validation technique.\n",
       "    stratified_kfold_split_data(n_splits=5):\n",
       "        Split the data using stratified K-fold cross-validation technique.\n",
       "    shuffle_split_data(n_splits=5, test_size=0.2, random_state=None):\n",
       "        Split the data using shuffle split technique.\n",
       "    time_series_split_data(n_splits=5):\n",
       "        Split the data using time series split technique.\n",
       "\n",
       "Returns:\n",
       "    The split data: X_train, X_test, y_train, y_test\n",
       "\n",
       "Examples:\n",
       "    >>> splitter = DataSplitter(X, y)\n",
       "    >>> X_train, X_test, y_train, y_test = splitter.train_test_split_data(test_size=0.2)\n",
       "    >>> kf_splits = splitter.kfold_split_data(n_splits=5)\n",
       "    >>> skf_splits = splitter.stratified_kfold_split_data(n_splits=5)\n",
       "    >>> shuffle_splits = splitter.shuffle_split_data(n_splits=5, test_size=0.2)\n",
       "    >>> tscv_splits = splitter.time_series_split_data(n_splits=5)\n",
       "\u001b[0;31mInit docstring:\u001b[0m\n",
       "X (array-like): The feature matrix.\n",
       "y (array-like): The target variable.\n",
       "\u001b[0;31mType:\u001b[0m           type\n",
       "\u001b[0;31mSubclasses:\u001b[0m     "
      ]
     },
     "metadata": {},
     "output_type": "display_data"
    }
   ],
   "source": [
    "DataSplitter?"
   ]
  },
  {
   "cell_type": "code",
   "execution_count": 330,
   "id": "7dc6d9ba-f82b-4d48-a616-7e20ef1b0bf3",
   "metadata": {},
   "outputs": [],
   "source": [
    "spliter = DataSplitter(df.drop(columns=['placed']), df['placed'])"
   ]
  },
  {
   "cell_type": "code",
   "execution_count": 331,
   "id": "c771cab7-1ea8-4069-8fd5-04196bc031fd",
   "metadata": {},
   "outputs": [
    {
     "name": "stdout",
     "output_type": "stream",
     "text": [
      "(800, 2)\n",
      "(200, 2)\n",
      "(800,)\n",
      "(200,)\n"
     ]
    }
   ],
   "source": [
    "X_train, X_test, y_train, y_test = spliter.train_test_split_data(random_state=42)\n",
    "print(X_train.shape)\n",
    "print(X_test.shape)\n",
    "print(y_train.shape)\n",
    "print(y_test.shape)"
   ]
  },
  {
   "cell_type": "code",
   "execution_count": 332,
   "id": "eac5817d-4c27-4426-be14-065349cd5f47",
   "metadata": {},
   "outputs": [
    {
     "name": "stdout",
     "output_type": "stream",
     "text": [
      "gg\n",
      "gg\n",
      "gg\n",
      "gg\n",
      "gg\n"
     ]
    }
   ],
   "source": [
    "spliter = DataSplitter(df.drop(columns=['placed']), df['placed'])\n",
    "for data in spliter.kfold_split_data(n_splits=5):\n",
    "    print(\"gg\")"
   ]
  },
  {
   "cell_type": "code",
   "execution_count": 336,
   "id": "cf1afd19-b5a8-4264-bd27-a3f96580ea9b",
   "metadata": {},
   "outputs": [
    {
     "name": "stdout",
     "output_type": "stream",
     "text": [
      "gg\n",
      "gg\n",
      "gg\n",
      "gg\n",
      "gg\n"
     ]
    }
   ],
   "source": [
    "for data in spliter.stratified_kfold_split_data():\n",
    "    print(\"gg\")"
   ]
  },
  {
   "cell_type": "code",
   "execution_count": null,
   "id": "a19cc5e4-8a06-469d-a119-4cfeadf5d9cd",
   "metadata": {},
   "outputs": [],
   "source": []
  },
  {
   "cell_type": "code",
   "execution_count": null,
   "id": "b88cd0f8-69bf-4eb4-8394-cff8f2c61bc7",
   "metadata": {},
   "outputs": [],
   "source": []
  },
  {
   "cell_type": "code",
   "execution_count": null,
   "id": "d98967ea-7ba4-44e7-99a8-04ecdeed2f3b",
   "metadata": {},
   "outputs": [],
   "source": []
  },
  {
   "cell_type": "code",
   "execution_count": null,
   "id": "52d293b7-ea3b-41e9-a354-9f0e3303575b",
   "metadata": {},
   "outputs": [],
   "source": []
  },
  {
   "cell_type": "code",
   "execution_count": null,
   "id": "8da837e2-c232-4572-b3e5-97da0b41da16",
   "metadata": {},
   "outputs": [],
   "source": []
  },
  {
   "cell_type": "markdown",
   "id": "3d7831a5-7c26-48d4-b143-b37b71fe457b",
   "metadata": {
    "jp-MarkdownHeadingCollapsed": true
   },
   "source": [
    "### Exploration"
   ]
  },
  {
   "cell_type": "code",
   "execution_count": 51,
   "id": "68a520dc-0ef5-415e-a3b5-df35ef6a5859",
   "metadata": {},
   "outputs": [
    {
     "data": {
      "text/html": [
       "<div>\n",
       "<style scoped>\n",
       "    .dataframe tbody tr th:only-of-type {\n",
       "        vertical-align: middle;\n",
       "    }\n",
       "\n",
       "    .dataframe tbody tr th {\n",
       "        vertical-align: top;\n",
       "    }\n",
       "\n",
       "    .dataframe thead th {\n",
       "        text-align: right;\n",
       "    }\n",
       "</style>\n",
       "<table border=\"1\" class=\"dataframe\">\n",
       "  <thead>\n",
       "    <tr style=\"text-align: right;\">\n",
       "      <th></th>\n",
       "      <th>cgpa</th>\n",
       "      <th>placement_exam_marks</th>\n",
       "      <th>placed</th>\n",
       "    </tr>\n",
       "  </thead>\n",
       "  <tbody>\n",
       "    <tr>\n",
       "      <th>0</th>\n",
       "      <td>7.19</td>\n",
       "      <td>26.0</td>\n",
       "      <td>1</td>\n",
       "    </tr>\n",
       "    <tr>\n",
       "      <th>1</th>\n",
       "      <td>7.46</td>\n",
       "      <td>38.0</td>\n",
       "      <td>1</td>\n",
       "    </tr>\n",
       "    <tr>\n",
       "      <th>2</th>\n",
       "      <td>7.54</td>\n",
       "      <td>40.0</td>\n",
       "      <td>1</td>\n",
       "    </tr>\n",
       "    <tr>\n",
       "      <th>3</th>\n",
       "      <td>6.42</td>\n",
       "      <td>8.0</td>\n",
       "      <td>1</td>\n",
       "    </tr>\n",
       "    <tr>\n",
       "      <th>4</th>\n",
       "      <td>7.23</td>\n",
       "      <td>17.0</td>\n",
       "      <td>0</td>\n",
       "    </tr>\n",
       "    <tr>\n",
       "      <th>...</th>\n",
       "      <td>...</td>\n",
       "      <td>...</td>\n",
       "      <td>...</td>\n",
       "    </tr>\n",
       "    <tr>\n",
       "      <th>995</th>\n",
       "      <td>8.87</td>\n",
       "      <td>44.0</td>\n",
       "      <td>1</td>\n",
       "    </tr>\n",
       "    <tr>\n",
       "      <th>996</th>\n",
       "      <td>9.12</td>\n",
       "      <td>65.0</td>\n",
       "      <td>1</td>\n",
       "    </tr>\n",
       "    <tr>\n",
       "      <th>997</th>\n",
       "      <td>4.89</td>\n",
       "      <td>34.0</td>\n",
       "      <td>0</td>\n",
       "    </tr>\n",
       "    <tr>\n",
       "      <th>998</th>\n",
       "      <td>8.62</td>\n",
       "      <td>46.0</td>\n",
       "      <td>1</td>\n",
       "    </tr>\n",
       "    <tr>\n",
       "      <th>999</th>\n",
       "      <td>4.90</td>\n",
       "      <td>10.0</td>\n",
       "      <td>1</td>\n",
       "    </tr>\n",
       "  </tbody>\n",
       "</table>\n",
       "<p>1000 rows × 3 columns</p>\n",
       "</div>"
      ],
      "text/plain": [
       "     cgpa  placement_exam_marks  placed\n",
       "0    7.19                  26.0       1\n",
       "1    7.46                  38.0       1\n",
       "2    7.54                  40.0       1\n",
       "3    6.42                   8.0       1\n",
       "4    7.23                  17.0       0\n",
       "..    ...                   ...     ...\n",
       "995  8.87                  44.0       1\n",
       "996  9.12                  65.0       1\n",
       "997  4.89                  34.0       0\n",
       "998  8.62                  46.0       1\n",
       "999  4.90                  10.0       1\n",
       "\n",
       "[1000 rows x 3 columns]"
      ]
     },
     "execution_count": 51,
     "metadata": {},
     "output_type": "execute_result"
    }
   ],
   "source": [
    "df"
   ]
  },
  {
   "cell_type": "code",
   "execution_count": 175,
   "id": "c391280e-f0ea-455c-93a5-aa8cf96d0af1",
   "metadata": {},
   "outputs": [
    {
     "data": {
      "image/png": "[encoded data removed]",
      "text/plain": [
       "<Figure size 640x480 with 1 Axes>"
      ]
     },
     "metadata": {},
     "output_type": "display_data"
    }
   ],
   "source": [
    "df.cgpa.hist();"
   ]
  },
  {
   "cell_type": "code",
   "execution_count": 176,
   "id": "fa61b0db-1b61-4ada-993f-ef5af934bb39",
   "metadata": {},
   "outputs": [
    {
     "data": {
      "text/plain": [
       "<Axes: >"
      ]
     },
     "execution_count": 176,
     "metadata": {},
     "output_type": "execute_result"
    },
    {
     "data": {
      "image/png": "[encoded data removed]",
      "text/plain": [
       "<Figure size 640x480 with 1 Axes>"
      ]
     },
     "metadata": {},
     "output_type": "display_data"
    }
   ],
   "source": [
    "df.placement_exam_marks.hist()"
   ]
  },
  {
   "cell_type": "code",
   "execution_count": 177,
   "id": "20a8a6a1-b140-4434-b90e-78983b79c3d8",
   "metadata": {},
   "outputs": [
    {
     "data": {
      "text/plain": [
       "<Axes: >"
      ]
     },
     "execution_count": 177,
     "metadata": {},
     "output_type": "execute_result"
    },
    {
     "data": {
      "image/png": "[encoded data removed]",
      "text/plain": [
       "<Figure size 640x480 with 1 Axes>"
      ]
     },
     "metadata": {},
     "output_type": "display_data"
    }
   ],
   "source": [
    "df.placement_exam_marks.plot(kind=\"box\")"
   ]
  },
  {
   "cell_type": "code",
   "execution_count": 178,
   "id": "285e058c-67be-46bd-a5c2-671833b531cc",
   "metadata": {},
   "outputs": [],
   "source": [
    "handler = OutlierHandler(strategy=\"transformer\", transformer=\"sqrt\")"
   ]
  },
  {
   "cell_type": "code",
   "execution_count": 179,
   "id": "b708f585-4174-428d-8c2f-da7e57ae1364",
   "metadata": {},
   "outputs": [
    {
     "data": {
      "text/plain": [
       "<Axes: >"
      ]
     },
     "execution_count": 179,
     "metadata": {},
     "output_type": "execute_result"
    },
    {
     "data": {
      "image/png": "[encoded data removed]",
      "text/plain": [
       "<Figure size 640x480 with 1 Axes>"
      ]
     },
     "metadata": {},
     "output_type": "display_data"
    }
   ],
   "source": [
    "trsn_df = handler.transform(df['placement_exam_marks'].to_frame())\n",
    "trsn_df.query(\"placement_exam_marks != 0\").plot(kind=\"box\")"
   ]
  },
  {
   "cell_type": "code",
   "execution_count": 180,
   "id": "15ac3bf3-be5c-4d86-8bf6-7e3f51fa9edc",
   "metadata": {},
   "outputs": [
    {
     "data": {
      "text/plain": [
       "((1000, 1), (999, 1))"
      ]
     },
     "execution_count": 180,
     "metadata": {},
     "output_type": "execute_result"
    }
   ],
   "source": [
    "trsn_df.shape, trsn_df.query(\"placement_exam_marks != 0\").shape"
   ]
  },
  {
   "cell_type": "code",
   "execution_count": 181,
   "id": "d1c65510-c35d-4a6b-a604-5edfddb23b51",
   "metadata": {},
   "outputs": [
    {
     "data": {
      "text/html": [
       "<div>\n",
       "<style scoped>\n",
       "    .dataframe tbody tr th:only-of-type {\n",
       "        vertical-align: middle;\n",
       "    }\n",
       "\n",
       "    .dataframe tbody tr th {\n",
       "        vertical-align: top;\n",
       "    }\n",
       "\n",
       "    .dataframe thead th {\n",
       "        text-align: right;\n",
       "    }\n",
       "</style>\n",
       "<table border=\"1\" class=\"dataframe\">\n",
       "  <thead>\n",
       "    <tr style=\"text-align: right;\">\n",
       "      <th></th>\n",
       "      <th>placement_exam_marks</th>\n",
       "    </tr>\n",
       "  </thead>\n",
       "  <tbody>\n",
       "    <tr>\n",
       "      <th>0.001</th>\n",
       "      <td>1.412799</td>\n",
       "    </tr>\n",
       "    <tr>\n",
       "      <th>1.000</th>\n",
       "      <td>10.000000</td>\n",
       "    </tr>\n",
       "  </tbody>\n",
       "</table>\n",
       "</div>"
      ],
      "text/plain": [
       "       placement_exam_marks\n",
       "0.001              1.412799\n",
       "1.000             10.000000"
      ]
     },
     "execution_count": 181,
     "metadata": {},
     "output_type": "execute_result"
    }
   ],
   "source": [
    "trsn_df.quantile([0.001, 1])"
   ]
  },
  {
   "cell_type": "code",
   "execution_count": 182,
   "id": "30b722a6-53b8-402a-90ac-f87fe9921ef0",
   "metadata": {},
   "outputs": [],
   "source": [
    "handler = OutlierHandler(strategy=\"remove\", quantile_range=[0.001, 1])\n",
    "df_remove = handler.transform(trsn_df)"
   ]
  },
  {
   "cell_type": "code",
   "execution_count": 183,
   "id": "08e51074-38c1-4ee6-a4b0-f28bb57786f5",
   "metadata": {},
   "outputs": [
    {
     "data": {
      "text/html": [
       "<div>\n",
       "<style scoped>\n",
       "    .dataframe tbody tr th:only-of-type {\n",
       "        vertical-align: middle;\n",
       "    }\n",
       "\n",
       "    .dataframe tbody tr th {\n",
       "        vertical-align: top;\n",
       "    }\n",
       "\n",
       "    .dataframe thead th {\n",
       "        text-align: right;\n",
       "    }\n",
       "</style>\n",
       "<table border=\"1\" class=\"dataframe\">\n",
       "  <thead>\n",
       "    <tr style=\"text-align: right;\">\n",
       "      <th></th>\n",
       "      <th>placement_exam_marks</th>\n",
       "    </tr>\n",
       "  </thead>\n",
       "  <tbody>\n",
       "    <tr>\n",
       "      <th>0.0</th>\n",
       "      <td>1.414214</td>\n",
       "    </tr>\n",
       "    <tr>\n",
       "      <th>1.0</th>\n",
       "      <td>10.000000</td>\n",
       "    </tr>\n",
       "  </tbody>\n",
       "</table>\n",
       "</div>"
      ],
      "text/plain": [
       "     placement_exam_marks\n",
       "0.0              1.414214\n",
       "1.0             10.000000"
      ]
     },
     "execution_count": 183,
     "metadata": {},
     "output_type": "execute_result"
    }
   ],
   "source": [
    "df_remove.quantile([0, 1])"
   ]
  },
  {
   "cell_type": "code",
   "execution_count": 184,
   "id": "e16a30cf-31be-4724-a9ac-668669debd0f",
   "metadata": {},
   "outputs": [
    {
     "data": {
      "text/plain": [
       "<Axes: >"
      ]
     },
     "execution_count": 184,
     "metadata": {},
     "output_type": "execute_result"
    },
    {
     "data": {
      "image/png": "[encoded data removed]",
      "text/plain": [
       "<Figure size 640x480 with 1 Axes>"
      ]
     },
     "metadata": {},
     "output_type": "display_data"
    }
   ],
   "source": [
    "df_remove.plot(kind=\"box\")"
   ]
  },
  {
   "cell_type": "code",
   "execution_count": 185,
   "id": "5d5228fe-1ae3-42ad-8f4d-b485f643b905",
   "metadata": {},
   "outputs": [
    {
     "data": {
      "text/plain": [
       "0.8356419499466834"
      ]
     },
     "execution_count": 185,
     "metadata": {},
     "output_type": "execute_result"
    }
   ],
   "source": [
    "df.placement_exam_marks.skew()"
   ]
  },
  {
   "cell_type": "code",
   "execution_count": 186,
   "id": "0a3b26ee-6038-41eb-bf9b-fae3ee632631",
   "metadata": {},
   "outputs": [
    {
     "data": {
      "text/plain": [
       "0.18023273985417204"
      ]
     },
     "execution_count": 186,
     "metadata": {},
     "output_type": "execute_result"
    }
   ],
   "source": [
    "trsn_df.placement_exam_marks.skew()"
   ]
  },
  {
   "cell_type": "code",
   "execution_count": 187,
   "id": "046285e1-41f4-469a-bacc-73e5a45fd6cf",
   "metadata": {},
   "outputs": [
    {
     "data": {
      "text/plain": [
       "placement_exam_marks    0.206972\n",
       "dtype: float64"
      ]
     },
     "execution_count": 187,
     "metadata": {},
     "output_type": "execute_result"
    }
   ],
   "source": [
    "df_remove.skew()"
   ]
  },
  {
   "cell_type": "code",
   "execution_count": null,
   "id": "8399c5d2-d223-4e6e-9ca6-661868744035",
   "metadata": {},
   "outputs": [],
   "source": []
  },
  {
   "cell_type": "code",
   "execution_count": 188,
   "id": "0f74beed-35f0-434e-a7bb-88aad3338868",
   "metadata": {},
   "outputs": [
    {
     "data": {
      "text/plain": [
       "array([[<Axes: title={'center': 'placement_exam_marks'}>]], dtype=object)"
      ]
     },
     "execution_count": 188,
     "metadata": {},
     "output_type": "execute_result"
    },
    {
     "data": {
      "image/png": "[encoded data removed]",
      "text/plain": [
       "<Figure size 640x480 with 1 Axes>"
      ]
     },
     "metadata": {},
     "output_type": "display_data"
    }
   ],
   "source": [
    "df_remove.hist()"
   ]
  },
  {
   "cell_type": "markdown",
   "id": "19400478-ede8-4322-a2cf-a59e691a5312",
   "metadata": {
    "jp-MarkdownHeadingCollapsed": true
   },
   "source": [
    "### PipeLine"
   ]
  },
  {
   "cell_type": "code",
   "execution_count": 25,
   "id": "0be92e2c-5434-4593-88c2-7cfcca6f4eaa",
   "metadata": {},
   "outputs": [],
   "source": [
    "from sklearn.compose import ColumnTransformer"
   ]
  },
  {
   "cell_type": "code",
   "execution_count": 201,
   "id": "438ee6fe-65b1-437f-b17d-7672e2c32ea2",
   "metadata": {},
   "outputs": [],
   "source": [
    "handler_sqrt = OutlierHandler(strategy=\"transformer\", transformer=\"sqrt\", inplace=True)\n",
    "handler_remove = OutlierHandler(strategy=\"remove\", quantile_range=[0.001, 0.999], inplace=True)"
   ]
  },
  {
   "cell_type": "code",
   "execution_count": 202,
   "id": "63d61bc3-0f4a-400c-9f4f-852ca7202a82",
   "metadata": {},
   "outputs": [],
   "source": [
    "pipeline = make_pipeline([\n",
    "    ('handler_sqrt', handler_sqrt),\n",
    "    ('handler_remove', handler_remove),\n",
    "])"
   ]
  },
  {
   "cell_type": "code",
   "execution_count": null,
   "id": "3b54019e-73e8-4c94-a581-dbc744418870",
   "metadata": {},
   "outputs": [],
   "source": [
    "pipeline.fit_transform(df)"
   ]
  },
  {
   "cell_type": "code",
   "execution_count": 220,
   "id": "91c81db4-40da-47e5-93ca-5df116bc5010",
   "metadata": {},
   "outputs": [
    {
     "data": {
      "text/plain": [
       "Index(['cgpa', 'placement_exam_marks', 'placed'], dtype='object')"
      ]
     },
     "execution_count": 220,
     "metadata": {},
     "output_type": "execute_result"
    }
   ],
   "source": [
    "df.columns"
   ]
  },
  {
   "cell_type": "code",
   "execution_count": 30,
   "id": "2baa774e-ec30-46eb-aef3-e1bd7309d169",
   "metadata": {},
   "outputs": [
    {
     "name": "stdout",
     "output_type": "stream",
     "text": [
      "[2023-07-05 19:55:03,315] - root - INFO - Transform data for handling outlier with transformer\n",
      "[2023-07-05 19:55:03,321] - root - INFO - Transform data for handling outlier with statistics\n"
     ]
    }
   ],
   "source": [
    "from sklearn.pipeline import Pipeline\n",
    "# Step 3: Remove outliers from specific columns\n",
    "handler_sqrt = OutlierHandler(strategy='transformer', transformer='sqrt')\n",
    "handler_remove = OutlierHandler(strategy='remove', quantile_range=[0.001, 0.999])\n",
    "handler_winsorization = OutlierHandler(strategy='statistics', statistics=\"winsorization\")\n",
    "\n",
    "outlier_handlers = [\n",
    "    ('handler_sqrt', handler_sqrt, 'placement_exam_marks'),\n",
    "    ('handler_winsorization', handler_winsorization, 'cgpa')\n",
    "]\n",
    "\n",
    "outlier_transformer = ColumnTransformer(outlier_handlers)\n",
    "\n",
    "# Step 4: Scale the data\n",
    "\n",
    "# Create the pipeline\n",
    "pipeline = Pipeline([\n",
    "    # ('handler_sqrt', handler_sqrt),\n",
    "    # ('handler_winsorization', handler_winsorization),\n",
    "    ('outlier_handlers', outlier_transformer),\n",
    "    ('scaler', Scaler())\n",
    "])\n",
    "\n",
    "X_processed = pipeline.fit_transform(df)\n",
    "\n"
   ]
  },
  {
   "cell_type": "code",
   "execution_count": 31,
   "id": "ff887481-fb66-46ee-a3c6-779d645bf34f",
   "metadata": {},
   "outputs": [
    {
     "data": {
      "text/plain": [
       "array([[-0.19034828,  0.42696465],\n",
       "       [ 0.44110489,  0.87675535],\n",
       "       [ 0.53601972,  1.01002667],\n",
       "       ...,\n",
       "       [ 0.24346382, -2.2891048 ],\n",
       "       [ 0.80734012, -2.2891048 ],\n",
       "       [-1.33824399, -2.2891048 ]])"
      ]
     },
     "execution_count": 31,
     "metadata": {},
     "output_type": "execute_result"
    }
   ],
   "source": [
    "X_processed"
   ]
  },
  {
   "cell_type": "code",
   "execution_count": 23,
   "id": "418d96a2-06b4-4efd-be81-7ce42b609a14",
   "metadata": {},
   "outputs": [],
   "source": [
    "from src.data.preparation import Scaler, OutlierHandler"
   ]
  },
  {
   "cell_type": "code",
   "execution_count": null,
   "id": "032216ee-edaf-440b-8588-90db45f558be",
   "metadata": {},
   "outputs": [],
   "source": [
    "from sklearn.pipeline import Pipeline\n",
    "# Step 3: Remove outliers from specific columns\n",
    "handler_sqrt = OutlierHandler(strategy='transformer', transformer='sqrt')\n",
    "handler_remove = OutlierHandler(strategy='remove', quantile_range=[0.001, 0.999])\n",
    "handler_winsorization = OutlierHandler(strategy='statistics', statistics=\"winsorization\")\n",
    "\n",
    "\n",
    "trasf_sqrt = ColumnTransformer([\n",
    "    ('handler_sqrt', handler_sqrt, 'placement_exam_marks')\n",
    "])\n",
    "tranf_win = ColumnTransformer([\n",
    "    ('handler_winsorization', handler_winsorization, 'cgpa')\n",
    "])\n",
    "\n",
    "# Step 4: Scale the data\n",
    "\n",
    "# Create the pipeline\n",
    "pipeline = Pipeline([\n",
    "    ('handler_sqrt', trasf_sqrt),\n",
    "    ('handler_winsorization', tranf_win),\n",
    "    ('scaler', 'passthrough')\n",
    "])\n",
    "\n",
    "X_processed = pipeline.fit_transform(df)\n"
   ]
  },
  {
   "cell_type": "code",
   "execution_count": 33,
   "id": "a516f1c8-14ee-44ed-acb0-0673221322af",
   "metadata": {},
   "outputs": [
    {
     "data": {
      "text/plain": [
       "[10, 5]"
      ]
     },
     "execution_count": 33,
     "metadata": {},
     "output_type": "execute_result"
    }
   ],
   "source": [
    "[10] + [5]"
   ]
  },
  {
   "cell_type": "code",
   "execution_count": 231,
   "id": "b2c4ae49-446e-4c4c-8612-9eb01aeda9ec",
   "metadata": {},
   "outputs": [
    {
     "data": {
      "text/plain": [
       "array([[5.09901951, 7.19      ],\n",
       "       [6.164414  , 7.46      ],\n",
       "       [6.32455532, 7.54      ],\n",
       "       ...,\n",
       "       [5.83095189, 5.5596    ],\n",
       "       [6.78232998, 5.5596    ],\n",
       "       [3.16227766, 5.5596    ]])"
      ]
     },
     "execution_count": 231,
     "metadata": {},
     "output_type": "execute_result"
    }
   ],
   "source": [
    "X_processed"
   ]
  },
  {
   "cell_type": "code",
   "execution_count": 233,
   "id": "3e0fc8cb-6977-4405-b026-73e7420f882e",
   "metadata": {},
   "outputs": [
    {
     "data": {
      "text/html": [
       "<div>\n",
       "<style scoped>\n",
       "    .dataframe tbody tr th:only-of-type {\n",
       "        vertical-align: middle;\n",
       "    }\n",
       "\n",
       "    .dataframe tbody tr th {\n",
       "        vertical-align: top;\n",
       "    }\n",
       "\n",
       "    .dataframe thead th {\n",
       "        text-align: right;\n",
       "    }\n",
       "</style>\n",
       "<table border=\"1\" class=\"dataframe\">\n",
       "  <thead>\n",
       "    <tr style=\"text-align: right;\">\n",
       "      <th></th>\n",
       "      <th>cgpa</th>\n",
       "      <th>placement_exam_marks</th>\n",
       "      <th>placed</th>\n",
       "    </tr>\n",
       "  </thead>\n",
       "  <tbody>\n",
       "    <tr>\n",
       "      <th>0</th>\n",
       "      <td>7.19</td>\n",
       "      <td>26.0</td>\n",
       "      <td>1</td>\n",
       "    </tr>\n",
       "    <tr>\n",
       "      <th>1</th>\n",
       "      <td>7.46</td>\n",
       "      <td>38.0</td>\n",
       "      <td>1</td>\n",
       "    </tr>\n",
       "    <tr>\n",
       "      <th>2</th>\n",
       "      <td>7.54</td>\n",
       "      <td>40.0</td>\n",
       "      <td>1</td>\n",
       "    </tr>\n",
       "    <tr>\n",
       "      <th>3</th>\n",
       "      <td>6.42</td>\n",
       "      <td>8.0</td>\n",
       "      <td>1</td>\n",
       "    </tr>\n",
       "    <tr>\n",
       "      <th>4</th>\n",
       "      <td>7.23</td>\n",
       "      <td>17.0</td>\n",
       "      <td>0</td>\n",
       "    </tr>\n",
       "    <tr>\n",
       "      <th>...</th>\n",
       "      <td>...</td>\n",
       "      <td>...</td>\n",
       "      <td>...</td>\n",
       "    </tr>\n",
       "    <tr>\n",
       "      <th>995</th>\n",
       "      <td>8.87</td>\n",
       "      <td>44.0</td>\n",
       "      <td>1</td>\n",
       "    </tr>\n",
       "    <tr>\n",
       "      <th>996</th>\n",
       "      <td>9.12</td>\n",
       "      <td>65.0</td>\n",
       "      <td>1</td>\n",
       "    </tr>\n",
       "    <tr>\n",
       "      <th>997</th>\n",
       "      <td>4.89</td>\n",
       "      <td>34.0</td>\n",
       "      <td>0</td>\n",
       "    </tr>\n",
       "    <tr>\n",
       "      <th>998</th>\n",
       "      <td>8.62</td>\n",
       "      <td>46.0</td>\n",
       "      <td>1</td>\n",
       "    </tr>\n",
       "    <tr>\n",
       "      <th>999</th>\n",
       "      <td>4.90</td>\n",
       "      <td>10.0</td>\n",
       "      <td>1</td>\n",
       "    </tr>\n",
       "  </tbody>\n",
       "</table>\n",
       "<p>1000 rows × 3 columns</p>\n",
       "</div>"
      ],
      "text/plain": [
       "     cgpa  placement_exam_marks  placed\n",
       "0    7.19                  26.0       1\n",
       "1    7.46                  38.0       1\n",
       "2    7.54                  40.0       1\n",
       "3    6.42                   8.0       1\n",
       "4    7.23                  17.0       0\n",
       "..    ...                   ...     ...\n",
       "995  8.87                  44.0       1\n",
       "996  9.12                  65.0       1\n",
       "997  4.89                  34.0       0\n",
       "998  8.62                  46.0       1\n",
       "999  4.90                  10.0       1\n",
       "\n",
       "[1000 rows x 3 columns]"
      ]
     },
     "execution_count": 233,
     "metadata": {},
     "output_type": "execute_result"
    }
   ],
   "source": [
    "df"
   ]
  },
  {
   "cell_type": "code",
   "execution_count": 168,
   "id": "2e223cf3-c038-4b44-b3c6-cc109d4a66bc",
   "metadata": {},
   "outputs": [],
   "source": [
    "prepross = ColumnTransformer(\n",
    "    [\n",
    "        (\"OutlierHandler\", handler_sqrt, 'placement_exam_marks'),\n",
    "       (\"OutlierHandler1\", handler_remove, 'placement_exam_marks')\n",
    "    ]\n",
    ")"
   ]
  },
  {
   "cell_type": "code",
   "execution_count": null,
   "id": "b88efb95-1641-4a50-b346-1291e88ecb7b",
   "metadata": {},
   "outputs": [],
   "source": [
    "df_copy = df.copy()\n",
    "X = prepross.fit_transform(df_copy)"
   ]
  },
  {
   "cell_type": "code",
   "execution_count": 158,
   "id": "a122b05d-73d2-4cfd-9e27-a5b9516123c6",
   "metadata": {},
   "outputs": [],
   "source": [
    "df_copy_sqrt = df_copy.copy()\n",
    "df_copy_remove = df_copy.copy()"
   ]
  },
  {
   "cell_type": "code",
   "execution_count": 164,
   "id": "d6bc9333-1d38-4745-abf4-c9da72cb1d3f",
   "metadata": {},
   "outputs": [],
   "source": [
    "handler_sqrt = OutlierHandler(strategy=\"transformer\", transformer=\"sqrt\", inplace=True)\n",
    "handler_remove = OutlierHandler(strategy=\"remove\", quantile_range=[0.001, 0.999], inplace=True)\n",
    "df_copy_sqrt['placement_exam_marks'] = handler_sqrt.transform(df_copy_sqrt[['placement_exam_marks']])\n",
    "df_copy_remove['placement_exam_marks_re'] = handler_remove.transform(df_copy_remove[['placement_exam_marks']])\n"
   ]
  },
  {
   "cell_type": "code",
   "execution_count": 165,
   "id": "7f0a35a2-0d7d-4026-a480-5693ebd46b47",
   "metadata": {},
   "outputs": [
    {
     "data": {
      "text/html": [
       "<div>\n",
       "<style scoped>\n",
       "    .dataframe tbody tr th:only-of-type {\n",
       "        vertical-align: middle;\n",
       "    }\n",
       "\n",
       "    .dataframe tbody tr th {\n",
       "        vertical-align: top;\n",
       "    }\n",
       "\n",
       "    .dataframe thead th {\n",
       "        text-align: right;\n",
       "    }\n",
       "</style>\n",
       "<table border=\"1\" class=\"dataframe\">\n",
       "  <thead>\n",
       "    <tr style=\"text-align: right;\">\n",
       "      <th></th>\n",
       "      <th>cgpa</th>\n",
       "      <th>placement_exam_marks</th>\n",
       "      <th>placed</th>\n",
       "      <th>cgpa</th>\n",
       "      <th>placement_exam_marks</th>\n",
       "      <th>placed</th>\n",
       "      <th>placement_exam_marks_re</th>\n",
       "    </tr>\n",
       "  </thead>\n",
       "  <tbody>\n",
       "    <tr>\n",
       "      <th>0</th>\n",
       "      <td>7.19</td>\n",
       "      <td>1.502698</td>\n",
       "      <td>1</td>\n",
       "      <td>7.19</td>\n",
       "      <td>5.099020</td>\n",
       "      <td>1</td>\n",
       "      <td>5.099020</td>\n",
       "    </tr>\n",
       "    <tr>\n",
       "      <th>1</th>\n",
       "      <td>7.46</td>\n",
       "      <td>1.575698</td>\n",
       "      <td>1</td>\n",
       "      <td>7.46</td>\n",
       "      <td>6.164414</td>\n",
       "      <td>1</td>\n",
       "      <td>6.164414</td>\n",
       "    </tr>\n",
       "    <tr>\n",
       "      <th>2</th>\n",
       "      <td>7.54</td>\n",
       "      <td>1.585833</td>\n",
       "      <td>1</td>\n",
       "      <td>7.54</td>\n",
       "      <td>6.324555</td>\n",
       "      <td>1</td>\n",
       "      <td>6.324555</td>\n",
       "    </tr>\n",
       "    <tr>\n",
       "      <th>3</th>\n",
       "      <td>6.42</td>\n",
       "      <td>1.296840</td>\n",
       "      <td>1</td>\n",
       "      <td>6.42</td>\n",
       "      <td>2.828427</td>\n",
       "      <td>1</td>\n",
       "      <td>2.828427</td>\n",
       "    </tr>\n",
       "    <tr>\n",
       "      <th>4</th>\n",
       "      <td>7.23</td>\n",
       "      <td>1.424971</td>\n",
       "      <td>0</td>\n",
       "      <td>7.23</td>\n",
       "      <td>4.123106</td>\n",
       "      <td>0</td>\n",
       "      <td>4.123106</td>\n",
       "    </tr>\n",
       "  </tbody>\n",
       "</table>\n",
       "</div>"
      ],
      "text/plain": [
       "   cgpa  placement_exam_marks  placed  cgpa  placement_exam_marks  placed   \n",
       "0  7.19              1.502698       1  7.19              5.099020       1  \\\n",
       "1  7.46              1.575698       1  7.46              6.164414       1   \n",
       "2  7.54              1.585833       1  7.54              6.324555       1   \n",
       "3  6.42              1.296840       1  6.42              2.828427       1   \n",
       "4  7.23              1.424971       0  7.23              4.123106       0   \n",
       "\n",
       "   placement_exam_marks_re  \n",
       "0                 5.099020  \n",
       "1                 6.164414  \n",
       "2                 6.324555  \n",
       "3                 2.828427  \n",
       "4                 4.123106  "
      ]
     },
     "execution_count": 165,
     "metadata": {},
     "output_type": "execute_result"
    }
   ],
   "source": [
    "# Combine the two datasets\n",
    "df_combined = pd.concat([df_copy_sqrt, df_copy_remove], axis=1)\n",
    "df_combined.head()"
   ]
  },
  {
   "cell_type": "code",
   "execution_count": null,
   "id": "d1af2613-6798-4d48-9045-be48ddb55146",
   "metadata": {},
   "outputs": [],
   "source": [
    "# Define the ColumnTransformer\n",
    "prepross = ColumnTransformer(\n",
    "    [\n",
    "        (\"OutlierHandler\", 'passthrough', ['placement_exam_marks']),\n",
    "        (\"OutlierHandler1\", 'passthrough', ['placement_exam_marks'])\n",
    "    ]\n",
    ")\n",
    "\n",
    "# Apply the transformation\n",
    "X = prepross.fit_transform(df_combined)"
   ]
  },
  {
   "cell_type": "code",
   "execution_count": 114,
   "id": "d2a11fa7-3a73-4653-ba76-a2aece2a1f07",
   "metadata": {},
   "outputs": [
    {
     "data": {
      "text/plain": [
       "Index(['cgpa', 'placement_exam_marks', 'placed'], dtype='object')"
      ]
     },
     "execution_count": 114,
     "metadata": {},
     "output_type": "execute_result"
    }
   ],
   "source": [
    "df.columns"
   ]
  },
  {
   "cell_type": "code",
   "execution_count": 115,
   "id": "197d85e5-3b80-46a8-96ad-fc07b97ece72",
   "metadata": {
    "scrolled": true
   },
   "outputs": [
    {
     "data": {
      "text/html": [
       "<div>\n",
       "<style scoped>\n",
       "    .dataframe tbody tr th:only-of-type {\n",
       "        vertical-align: middle;\n",
       "    }\n",
       "\n",
       "    .dataframe tbody tr th {\n",
       "        vertical-align: top;\n",
       "    }\n",
       "\n",
       "    .dataframe thead th {\n",
       "        text-align: right;\n",
       "    }\n",
       "</style>\n",
       "<table border=\"1\" class=\"dataframe\">\n",
       "  <thead>\n",
       "    <tr style=\"text-align: right;\">\n",
       "      <th></th>\n",
       "      <th>cgpa</th>\n",
       "      <th>placement_exam_marks</th>\n",
       "    </tr>\n",
       "  </thead>\n",
       "  <tbody>\n",
       "    <tr>\n",
       "      <th>0</th>\n",
       "      <td>7.19</td>\n",
       "      <td>26.0</td>\n",
       "    </tr>\n",
       "    <tr>\n",
       "      <th>1</th>\n",
       "      <td>7.46</td>\n",
       "      <td>38.0</td>\n",
       "    </tr>\n",
       "    <tr>\n",
       "      <th>2</th>\n",
       "      <td>7.54</td>\n",
       "      <td>40.0</td>\n",
       "    </tr>\n",
       "    <tr>\n",
       "      <th>3</th>\n",
       "      <td>6.42</td>\n",
       "      <td>8.0</td>\n",
       "    </tr>\n",
       "    <tr>\n",
       "      <th>4</th>\n",
       "      <td>7.23</td>\n",
       "      <td>17.0</td>\n",
       "    </tr>\n",
       "    <tr>\n",
       "      <th>...</th>\n",
       "      <td>...</td>\n",
       "      <td>...</td>\n",
       "    </tr>\n",
       "    <tr>\n",
       "      <th>995</th>\n",
       "      <td>8.87</td>\n",
       "      <td>44.0</td>\n",
       "    </tr>\n",
       "    <tr>\n",
       "      <th>996</th>\n",
       "      <td>9.12</td>\n",
       "      <td>65.0</td>\n",
       "    </tr>\n",
       "    <tr>\n",
       "      <th>997</th>\n",
       "      <td>4.89</td>\n",
       "      <td>34.0</td>\n",
       "    </tr>\n",
       "    <tr>\n",
       "      <th>998</th>\n",
       "      <td>8.62</td>\n",
       "      <td>46.0</td>\n",
       "    </tr>\n",
       "    <tr>\n",
       "      <th>999</th>\n",
       "      <td>4.90</td>\n",
       "      <td>10.0</td>\n",
       "    </tr>\n",
       "  </tbody>\n",
       "</table>\n",
       "<p>1000 rows × 2 columns</p>\n",
       "</div>"
      ],
      "text/plain": [
       "     cgpa  placement_exam_marks\n",
       "0    7.19                  26.0\n",
       "1    7.46                  38.0\n",
       "2    7.54                  40.0\n",
       "3    6.42                   8.0\n",
       "4    7.23                  17.0\n",
       "..    ...                   ...\n",
       "995  8.87                  44.0\n",
       "996  9.12                  65.0\n",
       "997  4.89                  34.0\n",
       "998  8.62                  46.0\n",
       "999  4.90                  10.0\n",
       "\n",
       "[1000 rows x 2 columns]"
      ]
     },
     "execution_count": 115,
     "metadata": {},
     "output_type": "execute_result"
    }
   ],
   "source": [
    "df[['cgpa', 'placement_exam_marks']]"
   ]
  },
  {
   "cell_type": "code",
   "execution_count": 133,
   "id": "68ba4b1c-6c3e-4b36-96af-0a4e8de5795f",
   "metadata": {},
   "outputs": [
    {
     "data": {
      "text/plain": [
       "0      26.0\n",
       "1      38.0\n",
       "2      40.0\n",
       "3       8.0\n",
       "4      17.0\n",
       "       ... \n",
       "995    44.0\n",
       "996    65.0\n",
       "997    34.0\n",
       "998    46.0\n",
       "999    10.0\n",
       "Name: placement_exam_marks, Length: 999, dtype: float64"
      ]
     },
     "execution_count": 133,
     "metadata": {},
     "output_type": "execute_result"
    }
   ],
   "source": [
    "df_boxcox = df.query('placement_exam_marks > 0')['placement_exam_marks']\n",
    "df_boxcox"
   ]
  },
  {
   "cell_type": "code",
   "execution_count": 140,
   "id": "6bdeeb51-741f-48bc-8dbe-74165ad7bed6",
   "metadata": {},
   "outputs": [
    {
     "data": {
      "text/plain": [
       "'placement_exam_marks'"
      ]
     },
     "execution_count": 140,
     "metadata": {},
     "output_type": "execute_result"
    }
   ],
   "source": [
    "df_boxcox.name"
   ]
  },
  {
   "cell_type": "code",
   "execution_count": 143,
   "id": "f2866d8a-c72b-4161-b622-7181f0ae01a5",
   "metadata": {},
   "outputs": [
    {
     "data": {
      "text/html": [
       "<div>\n",
       "<style scoped>\n",
       "    .dataframe tbody tr th:only-of-type {\n",
       "        vertical-align: middle;\n",
       "    }\n",
       "\n",
       "    .dataframe tbody tr th {\n",
       "        vertical-align: top;\n",
       "    }\n",
       "\n",
       "    .dataframe thead th {\n",
       "        text-align: right;\n",
       "    }\n",
       "</style>\n",
       "<table border=\"1\" class=\"dataframe\">\n",
       "  <thead>\n",
       "    <tr style=\"text-align: right;\">\n",
       "      <th></th>\n",
       "      <th>placement_exam_marks</th>\n",
       "    </tr>\n",
       "  </thead>\n",
       "  <tbody>\n",
       "    <tr>\n",
       "      <th>0</th>\n",
       "      <td>5.829999</td>\n",
       "    </tr>\n",
       "    <tr>\n",
       "      <th>1</th>\n",
       "      <td>7.007438</td>\n",
       "    </tr>\n",
       "    <tr>\n",
       "      <th>2</th>\n",
       "      <td>7.178135</td>\n",
       "    </tr>\n",
       "    <tr>\n",
       "      <th>3</th>\n",
       "      <td>2.982262</td>\n",
       "    </tr>\n",
       "    <tr>\n",
       "      <th>4</th>\n",
       "      <td>4.674548</td>\n",
       "    </tr>\n",
       "    <tr>\n",
       "      <th>...</th>\n",
       "      <td>...</td>\n",
       "    </tr>\n",
       "    <tr>\n",
       "      <th>995</th>\n",
       "      <td>7.503047</td>\n",
       "    </tr>\n",
       "    <tr>\n",
       "      <th>996</th>\n",
       "      <td>8.944473</td>\n",
       "    </tr>\n",
       "    <tr>\n",
       "      <th>997</th>\n",
       "      <td>6.647020</td>\n",
       "    </tr>\n",
       "    <tr>\n",
       "      <th>998</th>\n",
       "      <td>7.658093</td>\n",
       "    </tr>\n",
       "    <tr>\n",
       "      <th>999</th>\n",
       "      <td>3.440394</td>\n",
       "    </tr>\n",
       "  </tbody>\n",
       "</table>\n",
       "<p>999 rows × 1 columns</p>\n",
       "</div>"
      ],
      "text/plain": [
       "     placement_exam_marks\n",
       "0                5.829999\n",
       "1                7.007438\n",
       "2                7.178135\n",
       "3                2.982262\n",
       "4                4.674548\n",
       "..                    ...\n",
       "995              7.503047\n",
       "996              8.944473\n",
       "997              6.647020\n",
       "998              7.658093\n",
       "999              3.440394\n",
       "\n",
       "[999 rows x 1 columns]"
      ]
     },
     "execution_count": 143,
     "metadata": {},
     "output_type": "execute_result"
    }
   ],
   "source": [
    "fff = _transform_with_transformer(df_boxcox, \"boxcox\")\n",
    "fff\n",
    "# transformer = FunctionTransformer()\n",
    "# transformer.func = boxcox\n",
    "# transformed_data, _ = transformer.transform(df_boxcox)\n",
    "# transformed_data"
   ]
  },
  {
   "cell_type": "markdown",
   "id": "e88e20cf-bdf5-432d-b251-a7174f5b5bad",
   "metadata": {
    "jp-MarkdownHeadingCollapsed": true
   },
   "source": [
    "### data preparation in model ML with pandas"
   ]
  },
  {
   "cell_type": "code",
   "execution_count": 227,
   "id": "198f9083-94ce-42a0-8626-f71a5a3f6dae",
   "metadata": {},
   "outputs": [],
   "source": [
    "\"\"\"file for assure data preparation in model ML with pandas\"\"\"\n",
    "\n",
    "from typing import Union, Tuple, Dict, List\n",
    "import pandas as pd\n",
    "import numpy as np\n",
    "from sklearn.impute import SimpleImputer\n",
    "from sklearn.ensemble import RandomForestRegressor\n",
    "from sklearn.model_selection import GridSearchCV\n",
    "from sklearn.impute import KNNImputer\n",
    "from sklearn.preprocessing import FunctionTransformer\n",
    "import logging\n",
    "from scipy.stats import boxcox\n",
    "from sklearn.base import BaseEstimator, TransformerMixin\n",
    "from enum import Enum\n",
    "#import datawig\n",
    "\n",
    "class ParamsConstraints(Enum):\n",
    "    \"\"\"Class for store data for parametres_contraints\n",
    "    \"\"\"\n",
    "    STRATEGY_KEY: str = \"strategy\"\n",
    "    TRANSFORMER_KEY: str = \"transformer\"\n",
    "    STATISTICS_KEY: str = \"statistics\"\n",
    "    PARAM_GRID_KEY: str = \"param_grid\"\n",
    "    STRATEGY_TRANSFORMER: str = \"transformer\"\n",
    "    STRATEGY_STATISTICS: str = \"statistics\"\n",
    "    STRATEGY_RANDOM_FOREST: str = \"random_forest\"\n",
    "    STRATEGY_ZSCORE: str = \"zscore\"\n",
    "    STRATEGY_REMOVE: str = \"remove\"\n",
    "    TRANSFORMER_LOG: str = \"log\"\n",
    "    TRANSFORMER_SQRT: str = \"sqrt\"\n",
    "    TRANSFORMER_BOXCOX: str = \"boxcox\"\n",
    "    STATISTICS_MEDIAN: str = \"median\"\n",
    "    STATISTICS_TRIMMED_MEAN: str = \"trimmed_mean\"\n",
    "    STATISTICS_WINSORIZATION: str = \"winsorization\"\n",
    "    PARAM_GRID_N_ESTIMATORS: str = \"n_estimators\"\n",
    "    PARAM_GRID_MAX_DEPTH: str = \"max_depth\"\n",
    "    PARAM_GRID_MIN_SAMPLES_SPLIT: str = \"min_samples_split\"\n",
    "\n",
    "class OutlierHandler(BaseEstimator, TransformerMixin):\n",
    "    \"\"\"Class for handling outliers\"\"\"\n",
    "    _parameter_constraints: Dict[str, List[str]] = {\n",
    "        ParamsConstraints.STRATEGY_KEY.value: [\n",
    "            ParamsConstraints.STRATEGY_TRANSFORMER.value,\n",
    "            ParamsConstraints.STRATEGY_STATISTICS.value,\n",
    "            ParamsConstraints.STRATEGY_RANDOM_FOREST.value,\n",
    "            ParamsConstraints.STRATEGY_ZSCORE.value,\n",
    "            ParamsConstraints.STRATEGY_REMOVE.value,\n",
    "        ],\n",
    "        ParamsConstraints.TRANSFORMER_KEY.value: [\n",
    "            ParamsConstraints.TRANSFORMER_LOG.value,\n",
    "            ParamsConstraints.TRANSFORMER_SQRT.value,\n",
    "        ],\n",
    "        ParamsConstraints.STATISTICS_KEY.value: [\n",
    "            ParamsConstraints.STATISTICS_MEDIAN.value,\n",
    "            ParamsConstraints.STATISTICS_TRIMMED_MEAN.value,\n",
    "            ParamsConstraints.STATISTICS_WINSORIZATION.value,\n",
    "        ],\n",
    "        ParamsConstraints.PARAM_GRID_KEY.value: [\n",
    "            ParamsConstraints.PARAM_GRID_N_ESTIMATORS.value,\n",
    "            ParamsConstraints.PARAM_GRID_MAX_DEPTH.value,\n",
    "            ParamsConstraints.PARAM_GRID_MIN_SAMPLES_SPLIT.value,\n",
    "        ],\n",
    "    }\n",
    "\n",
    "\n",
    "    def __init__(\n",
    "        self,\n",
    "        strategy: str = \"transformer\",\n",
    "        transformer: str = \"log\",\n",
    "        statistics:str = None,\n",
    "        threshold:float = 0.0,\n",
    "        quantile_range: Tuple[float, float] = (0.05, 0.95),\n",
    "        param_grid: Union[Dict[str, List[Union[int, float]]], None] = None,\n",
    "        inplace = False\n",
    "    ) -> None:\n",
    "        \"\"\" Init class OutlierHandler\n",
    "\n",
    "        Args:\n",
    "            strategy (str, optional): _description_. Defaults to \"transformer\".\n",
    "            transformer (str, optional): _description_. Defaults to \"log\".\n",
    "            statistics (str, optional): _description_. Defaults to None.\n",
    "            threshold (float, optional): _description_. Defaults to 0.0.\n",
    "        \"\"\"\n",
    "        self.strategy = strategy\n",
    "        self.transformer = transformer\n",
    "        self.statistics = statistics\n",
    "        self.threshold = threshold\n",
    "        self.quantile_range = quantile_range\n",
    "        self.param_grid = param_grid\n",
    "        self.inplace = inplace\n",
    "        self._validate_parameters()\n",
    "\n",
    "\n",
    "    def _validate_input(self, **kwargs):\n",
    "        \"\"\"For validate input\"\"\"\n",
    "        # validate data we will transfrom\n",
    "        data = kwargs.get(\"data\")\n",
    "        if data is None or (\n",
    "            isinstance(data, pd.DataFrame) and data.empty\n",
    "        ) or (\n",
    "            isinstance(data, pd.Series) and data.empty\n",
    "        ) or (\n",
    "            isinstance(data, np.ndarray) and data.size == 0\n",
    "        ):\n",
    "            raise ValueError(\"Invalid data. Data is None or empty\")\n",
    "\n",
    "        # validate and check data for the method `\"random_forest\"`\n",
    "        if self.strategy == ParamsConstraints.STRATEGY_RANDOM_FOREST.value:\n",
    "            target = kwargs.get(\"target\")\n",
    "            if target is None:\n",
    "                raise ValueError(\"Invalid target. Traget is None\")\n",
    "            if target.empty:\n",
    "                raise ValueError(\"Invalid target. Traget is empty\")\n",
    "            if not isinstance(target, (np.ndarray, pd.Series)):\n",
    "                raise ValueError(\"Invalid data. Target is not a 1D array or a Pandas Series.\")\n",
    "            param_grid = kwargs.get(param_grid)\n",
    "            if param_grid is not None:\n",
    "                if not isinstance(param_grid, dict):\n",
    "                    raise ValueError(\"Invalid param_grid. param_grid must be dict\")\n",
    "                if set(param_grid.keys()) != \\\n",
    "                    set(self._parameter_constraints[ParamsConstraints.PARAM_GRID_KEY.value]):\n",
    "                    valid_statist = \", \".join(\n",
    "                        self._parameter_constraints[ParamsConstraints.PARAM_GRID_KEY.value]\n",
    "                    )\n",
    "                    raise ValueError(f\"Invalid param_grid: {param_grid}. Supported {valid_statist}\")\n",
    "                for value in param_grid.values():\n",
    "                    if not isinstance(value, (list, int)):\n",
    "                        raise ValueError\\\n",
    "                            (f\"Invalid param_grid: {param_grid} type of values isn't int or list\")\n",
    "\n",
    "\n",
    "    def _validate_parameters(self, **kwargs):\n",
    "        \"\"\"Valid & check the parameters for invalid values.\n",
    "\n",
    "        Args:\n",
    "            **kwargs: Additional keyword arguments.\n",
    "\n",
    "        Raises:\n",
    "            ValueError: If any of the parameters is invalid or missing.\n",
    "        \"\"\"\n",
    "\n",
    "        # Validate strategy\n",
    "        if self.strategy not in self._parameter_constraints[ParamsConstraints.STRATEGY_KEY.value]:\n",
    "            valid_strategies = \", \"\\\n",
    "                .join(self._parameter_constraints[ParamsConstraints.STRATEGY_KEY.value])\n",
    "            raise ValueError(f\"Invalid strategy: '{self.strategy}'. Supported: {valid_strategies}\")\n",
    "\n",
    "        # Validate transformer\n",
    "        if self.strategy == ParamsConstraints.TRANSFORMER_KEY.value:\n",
    "            if self.transformer not in self.\\\n",
    "                _parameter_constraints[ParamsConstraints.TRANSFORMER_KEY.value]:\n",
    "                vld_tr = \", \".join(\n",
    "                    self._parameter_constraints[ParamsConstraints.TRANSFORMER_KEY.value]\n",
    "                )\n",
    "                raise ValueError(f\"Invalid transformer: '{self.transformer}'. Supported: {vld_tr}\")\n",
    "\n",
    "        # Validate statistics\n",
    "        if self.strategy == ParamsConstraints.STATISTICS_KEY.value:\n",
    "            if self.statistics not in self.\\\n",
    "                _parameter_constraints[ParamsConstraints.STATISTICS_KEY.value]:\n",
    "                vald_stst = \", \"\\\n",
    "                    .join(self._parameter_constraints[ParamsConstraints.STATISTICS_KEY.value])\n",
    "                raise ValueError(f\"Invalid statistics: '{self.statistics}'. Supported: {vald_stst}\")\n",
    "        # validate z-score\n",
    "        if self.strategy == ParamsConstraints.STRATEGY_ZSCORE.value:\n",
    "            threshold = kwargs.get(\"threshold\")\n",
    "            MIN_THRESHOLD = 0\n",
    "            MAX_THRESHOLD = 10\n",
    "            if not MIN_THRESHOLD < threshold < MAX_THRESHOLD:\n",
    "                raise ValueError(f\"Threshold must be between {MIN_THRESHOLD} and {MAX_THRESHOLD}.\")\n",
    "        # validate range quantiles\n",
    "        if self.strategy == ParamsConstraints.STRATEGY_REMOVE.value:\n",
    "            MIN_Q_RANGE = 0.0\n",
    "            MAX_Q_RANGE = 1.1           \n",
    "            lower_quantile, upper_quantile = self.quantile_range\n",
    "            if not MIN_Q_RANGE <= lower_quantile < upper_quantile < MAX_Q_RANGE:\n",
    "                raise ValueError(f\"Quantile_range must be between {MIN_Q_RANGE} and {MAX_Q_RANGE}\")\n",
    "\n",
    "\n",
    "    def fit(\n",
    "        self, data: pd.DataFrame,\n",
    "        target: pd.Series=None\n",
    "    ):\n",
    "        \"\"\" fit\n",
    "        \"\"\"\n",
    "        self._validate_input(data=data, target=target)\n",
    "        return self\n",
    "\n",
    "\n",
    "    def transform(\n",
    "        self,\n",
    "        data: Union[pd.DataFrame, pd.Series],\n",
    "        target: pd.Series=None\n",
    "    ) -> pd.DataFrame:\n",
    "        \"\"\"\n",
    "        Apply outlier handling methods to the input DataFrame.\n",
    "\n",
    "        Args:\n",
    "            data (pd.DataFrame): The input DataFrame.\n",
    "            target (pd.Series): The input DataFrame.\n",
    "\n",
    "        Returns:\n",
    "            pd.DataFrame: The DataFrame with outliers handled.\n",
    "        \"\"\"\n",
    "        logging.info(f\"Transform data for handling outlier with {self.strategy}\")\n",
    "        if self.inplace:\n",
    "            dataframe = data\n",
    "        else:\n",
    "            dataframe = data.copy()\n",
    "        self._validate_input(data=dataframe, target=target)\n",
    "        if self.strategy == ParamsConstraints.STRATEGY_TRANSFORMER.value:\n",
    "            return self._transform_with_transformer(dataframe)\n",
    "        if self.strategy == ParamsConstraints.STRATEGY_STATISTICS.value:\n",
    "            return self._transform_with_statistics(dataframe)\n",
    "        if self.strategy == ParamsConstraints.STRATEGY_RANDOM_FOREST.value:\n",
    "            return self._transform_with_random_forest(dataframe, target)\n",
    "        if self.strategy == ParamsConstraints.STRATEGY_ZSCORE.value:\n",
    "            return self._transform_with_zscore(dataframe)\n",
    "        if self.strategy == ParamsConstraints.STRATEGY_REMOVE.value:\n",
    "            return self._transform_with_remove(dataframe)\n",
    "        raise ValueError(\"The strategy doesn't exist\")\n",
    "\n",
    "    def _transform_with_transformer(self, data: pd.DataFrame) -> pd.DataFrame:\n",
    "        \"\"\"\n",
    "        Transform the data using a specified method.\n",
    "\n",
    "        Args:\n",
    "            data (pd.DataFrame): Data Frame.\n",
    "\n",
    "        Returns:\n",
    "            pd.DataFrame: The transformed DataFrame.\n",
    "        \"\"\"\n",
    "\n",
    "        transformer = FunctionTransformer()\n",
    "        if self.transformer == ParamsConstraints.TRANSFORMER_LOG.value:\n",
    "            transformer.func = np.log\n",
    "        elif self.transformer == ParamsConstraints.TRANSFORMER_SQRT.value:\n",
    "            transformer.func = np.sqrt\n",
    "        elif self.transformer == ParamsConstraints.TRANSFORMER_BOXCOX.value:\n",
    "            transformer.func = boxcox\n",
    "        else:\n",
    "            raise ValueError(\"Invalid transformation method.\")\n",
    "\n",
    "        if self.transformer == ParamsConstraints.TRANSFORMER_BOXCOX.value:\n",
    "            transformed_data, _ = transformer.transform(data)\n",
    "        else:\n",
    "            transformed_data = transformer.transform(data)\n",
    "\n",
    "        if isinstance(data, pd.DataFrame):\n",
    "            transformed_data = pd.DataFrame(transformed_data, columns=data.columns)\n",
    "        if isinstance(data, pd.Series):\n",
    "            transformed_data = pd.Series(transformed_data, index=data.index)\\\n",
    "                .to_frame(name=data.name)\n",
    "        return transformed_data\n",
    "\n",
    "    def _transform_with_statistics(self, data: pd.DataFrame) -> pd.DataFrame:\n",
    "        \"\"\"\n",
    "        Apply robust statistical methods to handle outliers.\n",
    "            - Supported: 'median', 'trimmed_mean', 'winsorization'.\n",
    "\n",
    "        Args:\n",
    "            data (pd.DataFrame): The DataFrame from which outliers will be removed.\n",
    "\n",
    "        Returns:\n",
    "            pd.DataFrame: The DataFrame with outliers handled using the specified method.\n",
    "        \"\"\"\n",
    "        if isinstance(data, pd.DataFrame):\n",
    "            if self.statistics == ParamsConstraints.STATISTICS_MEDIAN.value:\n",
    "                data = data.fillna(data.median())\n",
    "            elif self.statistics == ParamsConstraints.STATISTICS_TRIMMED_MEAN.value:\n",
    "                quantiles = data.quantile([0.05, 0.95])\n",
    "                for column in data.columns:\n",
    "                    lower_quantile = quantiles.loc[0.05, column]\n",
    "                    upper_quantile = quantiles.loc[0.95, column]\n",
    "                    mask = (\n",
    "                        (data[column] < lower_quantile) \\\n",
    "                            | (data[column] > upper_quantile)\n",
    "                    )\n",
    "                    data.loc[mask, column] = dataframe_copy[column].median()\n",
    "            elif self.statistics == ParamsConstraints.STATISTICS_WINSORIZATION.value:\n",
    "                winsorized_data = data.copy()\n",
    "                quantiles = winsorized_data.quantile([0.01, 0.99])\n",
    "                for column in data.columns:\n",
    "                    lower_quantile = quantiles.loc[0.01, column]\n",
    "                    upper_quantile = quantiles.loc[0.99, column]\n",
    "                    mask = (\n",
    "                        (winsorized_data[column] < lower_quantile) \\\n",
    "                            | (winsorized_data[column] > upper_quantile)\n",
    "                    )\n",
    "                    winsorized_data.loc[mask, column] = lower_quantile\n",
    "                data = winsorized_data\n",
    "        elif isinstance(data, pd.Series):\n",
    "            if self.statistics == ParamsConstraints.STATISTICS_MEDIAN.value:\n",
    "                data = data.fillna(data.median()).to_frame(name=data.name)\n",
    "            elif self.statistics == ParamsConstraints.STATISTICS_TRIMMED_MEAN.value:\n",
    "                lower_quantile, upper_quantile = data.quantile([0.05, 0.95])\n",
    "                mask = (data < lower_quantile) | (data > upper_quantile)\n",
    "                data.loc[mask] = data.median()\n",
    "                data = data.to_frame(name=data.name)\n",
    "            elif self.statistics == ParamsConstraints.STATISTICS_WINSORIZATION.value:\n",
    "                winsorized_data = data.copy()\n",
    "                lower_quantile, upper_quantile = winsorized_data.quantile([0.01, 0.99])\n",
    "                mask = (winsorized_data < lower_quantile) | (winsorized_data > upper_quantile)\n",
    "                winsorized_data.loc[mask] = lower_quantile\n",
    "                data = winsorized_data.to_frame(name=data.name)\n",
    "        else:\n",
    "            raise ValueError(\"Invalid data type. Expected pd.DataFrame or pd.Series.\")\n",
    "\n",
    "        return data\n",
    "\n",
    "    def _transform_with_random_forest(\n",
    "        self, data: pd.DataFrame,\n",
    "        target:pd.Series,\n",
    "    ) -> pd.DataFrame:\n",
    "        \"\"\"\n",
    "        Apply random forest algorithm to handle outliers.\n",
    "\n",
    "        Args:\n",
    "            data (pd.DataFrame): The DataFrame from which outliers will be removed.\n",
    "            target (pd.Series): The target variable Series.\n",
    "\n",
    "        Returns:\n",
    "            pd.DataFrame: The DataFrame with outliers handled using random forest.\n",
    "        \"\"\"\n",
    "        target_na_mask = data.isna()\n",
    "\n",
    "        x_train = data[~target_na_mask]\n",
    "        y_train = target[~target_na_mask]\n",
    "        x_test = data[target_na_mask]\n",
    "\n",
    "        rdf = RandomForestRegressor()\n",
    "        self.param_grid = self.param_grid or {\n",
    "            'n_estimators': [100, 200, 300],\n",
    "            'max_depth': [3, 5, None],\n",
    "            'min_samples_split': [2, 5, 10]\n",
    "        }\n",
    "        grid_search = GridSearchCV(rdf, self.param_grid, scoring='neg_mean_squared_error', cv=5)\n",
    "        grid_search.fit(x_train, y_train)\n",
    "        best_rf = grid_search.best_estimator_\n",
    "        predicted_values = best_rf.predict(x_test)\n",
    "        data.loc[target_na_mask, data.columns] = predicted_values\n",
    "\n",
    "        return data\n",
    "\n",
    "    def _transform_with_zscore(self, data: pd.DataFrame) -> pd.DataFrame:\n",
    "        \"\"\"\n",
    "        Apply the Z-score method to handle outliers.\n",
    "\n",
    "        Args:\n",
    "            data (pd.DataFrame): The DataFrame from which outliers will be removed.\n",
    "\n",
    "        Returns:\n",
    "            pd.DataFrame: The DataFrame with outliers handled using the Z-score method.\n",
    "        \"\"\"\n",
    "        z_scores = (data - data.mean()) / data.std()\n",
    "        outlier_mask = (z_scores.abs() > self.threshold)\n",
    "        data[outlier_mask] = np.nan\n",
    "\n",
    "        return data\n",
    "\n",
    "    def _transform_with_remove(\n",
    "        self,\n",
    "        data: pd.DataFrame,\n",
    "    ) -> pd.DataFrame:\n",
    "        \"\"\"\n",
    "        Remove outliers from the DataFrame using Quantiles.\n",
    "\n",
    "        Args:\n",
    "            data (pd.DataFrame): The DataFrame from which outliers will be removed.\n",
    "\n",
    "        Returns:\n",
    "            pd.DataFrame: The DataFrame with outliers removed.\n",
    "        \"\"\"\n",
    "        if isinstance(data, pd.DataFrame):\n",
    "            lower_quantile, upper_quantile = self.quantile_range\n",
    "            for column in data.select_dtypes(\"number\").columns:\n",
    "                low, high = data[column].quantile([lower_quantile, upper_quantile])\n",
    "                mask_outliers = data[column].between(low, high)\n",
    "                data = data[mask_outliers]\n",
    "        elif isinstance(data, pd.Series):\n",
    "            lower_quantile, upper_quantile = self.quantile_range\n",
    "            low, high = data.quantile([lower_quantile, upper_quantile])\n",
    "            mask_outliers = data.between(low, high)\n",
    "            data = data[mask_outliers].to_frame(name=data.name)\n",
    "        else:\n",
    "            raise ValueError(\"Invalid data type. Expected pd.DataFrame or pd.Series.\")\n",
    "        return data\n"
   ]
  },
  {
   "cell_type": "markdown",
   "id": "966785ba-74f7-4405-940b-68bca6638396",
   "metadata": {
    "jp-MarkdownHeadingCollapsed": true
   },
   "source": [
    "### Pipelines With YAML"
   ]
  },
  {
   "cell_type": "code",
   "execution_count": null,
   "id": "23f7b691-6b2d-4fe0-8e69-3d1cde86087a",
   "metadata": {},
   "outputs": [],
   "source": []
  },
  {
   "cell_type": "code",
   "execution_count": 52,
   "id": "89ec0067-25ac-4d81-a258-85332f36eb41",
   "metadata": {},
   "outputs": [],
   "source": [
    "from sklearn.compose import ColumnTransformer\n",
    "from sklearn.datasets import fetch_openml\n",
    "from sklearn.feature_selection import SelectPercentile, chi2\n",
    "from sklearn.impute import SimpleImputer\n",
    "from sklearn.linear_model import LogisticRegression\n",
    "from sklearn.model_selection import RandomizedSearchCV, train_test_split\n",
    "from sklearn.pipeline import Pipeline\n",
    "from sklearn.preprocessing import OneHotEncoder, StandardScaler"
   ]
  },
  {
   "cell_type": "code",
   "execution_count": 57,
   "id": "67590feb-102a-41f6-86e3-6e2552bbab17",
   "metadata": {},
   "outputs": [
    {
     "data": {
      "text/html": [
       "<div>\n",
       "<style scoped>\n",
       "    .dataframe tbody tr th:only-of-type {\n",
       "        vertical-align: middle;\n",
       "    }\n",
       "\n",
       "    .dataframe tbody tr th {\n",
       "        vertical-align: top;\n",
       "    }\n",
       "\n",
       "    .dataframe thead th {\n",
       "        text-align: right;\n",
       "    }\n",
       "</style>\n",
       "<table border=\"1\" class=\"dataframe\">\n",
       "  <thead>\n",
       "    <tr style=\"text-align: right;\">\n",
       "      <th></th>\n",
       "      <th>cgpa</th>\n",
       "      <th>placement_exam_marks</th>\n",
       "      <th>placed</th>\n",
       "      <th>placed_cat</th>\n",
       "    </tr>\n",
       "  </thead>\n",
       "  <tbody>\n",
       "    <tr>\n",
       "      <th>0</th>\n",
       "      <td>7.19</td>\n",
       "      <td>26.0</td>\n",
       "      <td>1</td>\n",
       "      <td>True</td>\n",
       "    </tr>\n",
       "    <tr>\n",
       "      <th>1</th>\n",
       "      <td>7.46</td>\n",
       "      <td>38.0</td>\n",
       "      <td>1</td>\n",
       "      <td>True</td>\n",
       "    </tr>\n",
       "    <tr>\n",
       "      <th>2</th>\n",
       "      <td>7.54</td>\n",
       "      <td>40.0</td>\n",
       "      <td>1</td>\n",
       "      <td>True</td>\n",
       "    </tr>\n",
       "    <tr>\n",
       "      <th>3</th>\n",
       "      <td>6.42</td>\n",
       "      <td>8.0</td>\n",
       "      <td>1</td>\n",
       "      <td>True</td>\n",
       "    </tr>\n",
       "    <tr>\n",
       "      <th>4</th>\n",
       "      <td>7.23</td>\n",
       "      <td>17.0</td>\n",
       "      <td>0</td>\n",
       "      <td>False</td>\n",
       "    </tr>\n",
       "    <tr>\n",
       "      <th>...</th>\n",
       "      <td>...</td>\n",
       "      <td>...</td>\n",
       "      <td>...</td>\n",
       "      <td>...</td>\n",
       "    </tr>\n",
       "    <tr>\n",
       "      <th>995</th>\n",
       "      <td>8.87</td>\n",
       "      <td>44.0</td>\n",
       "      <td>1</td>\n",
       "      <td>True</td>\n",
       "    </tr>\n",
       "    <tr>\n",
       "      <th>996</th>\n",
       "      <td>9.12</td>\n",
       "      <td>65.0</td>\n",
       "      <td>1</td>\n",
       "      <td>True</td>\n",
       "    </tr>\n",
       "    <tr>\n",
       "      <th>997</th>\n",
       "      <td>4.89</td>\n",
       "      <td>34.0</td>\n",
       "      <td>0</td>\n",
       "      <td>False</td>\n",
       "    </tr>\n",
       "    <tr>\n",
       "      <th>998</th>\n",
       "      <td>8.62</td>\n",
       "      <td>46.0</td>\n",
       "      <td>1</td>\n",
       "      <td>True</td>\n",
       "    </tr>\n",
       "    <tr>\n",
       "      <th>999</th>\n",
       "      <td>4.90</td>\n",
       "      <td>10.0</td>\n",
       "      <td>1</td>\n",
       "      <td>True</td>\n",
       "    </tr>\n",
       "  </tbody>\n",
       "</table>\n",
       "<p>1000 rows × 4 columns</p>\n",
       "</div>"
      ],
      "text/plain": [
       "     cgpa  placement_exam_marks  placed  placed_cat\n",
       "0    7.19                  26.0       1        True\n",
       "1    7.46                  38.0       1        True\n",
       "2    7.54                  40.0       1        True\n",
       "3    6.42                   8.0       1        True\n",
       "4    7.23                  17.0       0       False\n",
       "..    ...                   ...     ...         ...\n",
       "995  8.87                  44.0       1        True\n",
       "996  9.12                  65.0       1        True\n",
       "997  4.89                  34.0       0       False\n",
       "998  8.62                  46.0       1        True\n",
       "999  4.90                  10.0       1        True\n",
       "\n",
       "[1000 rows x 4 columns]"
      ]
     },
     "execution_count": 57,
     "metadata": {},
     "output_type": "execute_result"
    }
   ],
   "source": [
    "df"
   ]
  },
  {
   "cell_type": "code",
   "execution_count": 56,
   "id": "fdb1e1e3-486f-493e-9ba4-e387ae0a8a77",
   "metadata": {},
   "outputs": [],
   "source": [
    "df['placed_cat'] = df['placed'] == 1"
   ]
  },
  {
   "cell_type": "code",
   "execution_count": null,
   "id": "0e8382ae-92a7-4b7d-a137-0fc2cc6b830b",
   "metadata": {},
   "outputs": [],
   "source": []
  },
  {
   "cell_type": "code",
   "execution_count": 54,
   "id": "8ff485f3-d500-4c82-98c9-6bb6c422c74e",
   "metadata": {},
   "outputs": [],
   "source": [
    "ff = ColumnTransformer(\n",
    "    [(\"ff\", StandardScaler(), ['cgpa'])]\n",
    ")"
   ]
  },
  {
   "cell_type": "code",
   "execution_count": 59,
   "id": "1e5f98ef-808e-445b-8374-7d60a96a6299",
   "metadata": {},
   "outputs": [],
   "source": [
    "ff = ColumnTransformer(\n",
    "    [(\"ff\", StandardScaler(), ['cgpa'])]\n",
    ")\n",
    "cgpa = Pipeline(\n",
    "    steps=[\n",
    "        ('pip_cgpa', ff)\n",
    "    ]\n",
    ")\n",
    "tt = ColumnTransformer(\n",
    "    [(\"tt\", OneHotEncoder(), ['placed_cat'])]\n",
    ")\n",
    "placed_cat = Pipeline(\n",
    "    steps=[\n",
    "        ('pip_placed_cat', tt)\n",
    "    ]\n",
    ")\n",
    "preprocessor = ColumnTransformer(\n",
    "    transformers=[\n",
    "        (\"placed_cat\", placed_cat),\n",
    "        (\"cgpa\", cgpa),\n",
    "    ]\n",
    ")\n",
    "clf = Pipeline(\n",
    "    steps=[(\"preprocessor\", preprocessor), (\"classifier\", LogisticRegression())]\n",
    ")\n",
    "clf.fit(df.drop(columns=\"placed\"), df['placed'])"
   ]
  },
  {
   "cell_type": "code",
   "execution_count": 58,
   "id": "303b4235-c69e-497f-bf1b-fced828b69d9",
   "metadata": {},
   "outputs": [],
   "source": [
    "tt = ColumnTransformer(\n",
    "    [(\"tt\", OneHotEncoder(), ['placed_cat'])]\n",
    ")"
   ]
  },
  {
   "cell_type": "code",
   "execution_count": 60,
   "id": "10a6a76a-3894-4ba1-a67e-d022dd7d431d",
   "metadata": {},
   "outputs": [],
   "source": [
    "placed_cat = Pipeline(\n",
    "    steps=[\n",
    "        ('pip_placed_cat', tt)\n",
    "    ]\n",
    ")"
   ]
  },
  {
   "cell_type": "code",
   "execution_count": 63,
   "id": "d6ffb327-4b3f-4648-a7b5-2abb84a1c8e6",
   "metadata": {},
   "outputs": [],
   "source": [
    "preprocessor = ColumnTransformer(\n",
    "    transformers=[\n",
    "        (\"placed_cat\", placed_cat),\n",
    "        (\"cgpa\", cgpa),\n",
    "    ]\n",
    ")"
   ]
  },
  {
   "cell_type": "code",
   "execution_count": 64,
   "id": "a8474365-0583-4140-b915-e14b008f0fa5",
   "metadata": {},
   "outputs": [
    {
     "data": {
      "text/html": [
       "<style>#sk-container-id-10 {color: black;background-color: white;}#sk-container-id-10 pre{padding: 0;}#sk-container-id-10 div.sk-toggleable {background-color: white;}#sk-container-id-10 label.sk-toggleable__label {cursor: pointer;display: block;width: 100%;margin-bottom: 0;padding: 0.3em;box-sizing: border-box;text-align: center;}#sk-container-id-10 label.sk-toggleable__label-arrow:before {content: \"▸\";float: left;margin-right: 0.25em;color: #696969;}#sk-container-id-10 label.sk-toggleable__label-arrow:hover:before {color: black;}#sk-container-id-10 div.sk-estimator:hover label.sk-toggleable__label-arrow:before {color: black;}#sk-container-id-10 div.sk-toggleable__content {max-height: 0;max-width: 0;overflow: hidden;text-align: left;background-color: #f0f8ff;}#sk-container-id-10 div.sk-toggleable__content pre {margin: 0.2em;color: black;border-radius: 0.25em;background-color: #f0f8ff;}#sk-container-id-10 input.sk-toggleable__control:checked~div.sk-toggleable__content {max-height: 200px;max-width: 100%;overflow: auto;}#sk-container-id-10 input.sk-toggleable__control:checked~label.sk-toggleable__label-arrow:before {content: \"▾\";}#sk-container-id-10 div.sk-estimator input.sk-toggleable__control:checked~label.sk-toggleable__label {background-color: #d4ebff;}#sk-container-id-10 div.sk-label input.sk-toggleable__control:checked~label.sk-toggleable__label {background-color: #d4ebff;}#sk-container-id-10 input.sk-hidden--visually {border: 0;clip: rect(1px 1px 1px 1px);clip: rect(1px, 1px, 1px, 1px);height: 1px;margin: -1px;overflow: hidden;padding: 0;position: absolute;width: 1px;}#sk-container-id-10 div.sk-estimator {font-family: monospace;background-color: #f0f8ff;border: 1px dotted black;border-radius: 0.25em;box-sizing: border-box;margin-bottom: 0.5em;}#sk-container-id-10 div.sk-estimator:hover {background-color: #d4ebff;}#sk-container-id-10 div.sk-parallel-item::after {content: \"\";width: 100%;border-bottom: 1px solid gray;flex-grow: 1;}#sk-container-id-10 div.sk-label:hover label.sk-toggleable__label {background-color: #d4ebff;}#sk-container-id-10 div.sk-serial::before {content: \"\";position: absolute;border-left: 1px solid gray;box-sizing: border-box;top: 0;bottom: 0;left: 50%;z-index: 0;}#sk-container-id-10 div.sk-serial {display: flex;flex-direction: column;align-items: center;background-color: white;padding-right: 0.2em;padding-left: 0.2em;position: relative;}#sk-container-id-10 div.sk-item {position: relative;z-index: 1;}#sk-container-id-10 div.sk-parallel {display: flex;align-items: stretch;justify-content: center;background-color: white;position: relative;}#sk-container-id-10 div.sk-item::before, #sk-container-id-10 div.sk-parallel-item::before {content: \"\";position: absolute;border-left: 1px solid gray;box-sizing: border-box;top: 0;bottom: 0;left: 50%;z-index: -1;}#sk-container-id-10 div.sk-parallel-item {display: flex;flex-direction: column;z-index: 1;position: relative;background-color: white;}#sk-container-id-10 div.sk-parallel-item:first-child::after {align-self: flex-end;width: 50%;}#sk-container-id-10 div.sk-parallel-item:last-child::after {align-self: flex-start;width: 50%;}#sk-container-id-10 div.sk-parallel-item:only-child::after {width: 0;}#sk-container-id-10 div.sk-dashed-wrapped {border: 1px dashed gray;margin: 0 0.4em 0.5em 0.4em;box-sizing: border-box;padding-bottom: 0.4em;background-color: white;}#sk-container-id-10 div.sk-label label {font-family: monospace;font-weight: bold;display: inline-block;line-height: 1.2em;}#sk-container-id-10 div.sk-label-container {text-align: center;}#sk-container-id-10 div.sk-container {/* jupyter's `normalize.less` sets `[hidden] { display: none; }` but bootstrap.min.css set `[hidden] { display: none !important; }` so we also need the `!important` here to be able to override the default hidden behavior on the sphinx rendered scikit-learn.org. See: https://github.com/scikit-learn/scikit-learn/issues/21755 */display: inline-block !important;position: relative;}#sk-container-id-10 div.sk-text-repr-fallback {display: none;}</style><div id=\"sk-container-id-10\" class=\"sk-top-container\"><div class=\"sk-text-repr-fallback\"><pre>ColumnTransformer(transformers=[(&#x27;placed_cat&#x27;,\n",
       "                                 Pipeline(steps=[(&#x27;pip_placed_cat&#x27;,\n",
       "                                                  ColumnTransformer(transformers=[(&#x27;tt&#x27;,\n",
       "                                                                                   OneHotEncoder(),\n",
       "                                                                                   [&#x27;placed_cat&#x27;])]))])),\n",
       "                                (&#x27;cgpa&#x27;,\n",
       "                                 Pipeline(steps=[(&#x27;pip_cgpa&#x27;,\n",
       "                                                  ColumnTransformer(transformers=[(&#x27;ff&#x27;,\n",
       "                                                                                   StandardScaler(),\n",
       "                                                                                   [&#x27;cgpa&#x27;])]))]))])</pre><b>In a Jupyter environment, please rerun this cell to show the HTML representation or trust the notebook. <br />On GitHub, the HTML representation is unable to render, please try loading this page with nbviewer.org.</b></div><div class=\"sk-container\" hidden><div class=\"sk-item\"><div class=\"sk-estimator sk-toggleable\"><input class=\"sk-toggleable__control sk-hidden--visually\" id=\"sk-estimator-id-69\" type=\"checkbox\" checked><label for=\"sk-estimator-id-69\" class=\"sk-toggleable__label sk-toggleable__label-arrow\">ColumnTransformer</label><div class=\"sk-toggleable__content\"><pre>ColumnTransformer(transformers=[(&#x27;placed_cat&#x27;,\n",
       "                                 Pipeline(steps=[(&#x27;pip_placed_cat&#x27;,\n",
       "                                                  ColumnTransformer(transformers=[(&#x27;tt&#x27;,\n",
       "                                                                                   OneHotEncoder(),\n",
       "                                                                                   [&#x27;placed_cat&#x27;])]))])),\n",
       "                                (&#x27;cgpa&#x27;,\n",
       "                                 Pipeline(steps=[(&#x27;pip_cgpa&#x27;,\n",
       "                                                  ColumnTransformer(transformers=[(&#x27;ff&#x27;,\n",
       "                                                                                   StandardScaler(),\n",
       "                                                                                   [&#x27;cgpa&#x27;])]))]))])</pre></div></div></div></div></div>"
      ],
      "text/plain": [
       "ColumnTransformer(transformers=[('placed_cat',\n",
       "                                 Pipeline(steps=[('pip_placed_cat',\n",
       "                                                  ColumnTransformer(transformers=[('tt',\n",
       "                                                                                   OneHotEncoder(),\n",
       "                                                                                   ['placed_cat'])]))])),\n",
       "                                ('cgpa',\n",
       "                                 Pipeline(steps=[('pip_cgpa',\n",
       "                                                  ColumnTransformer(transformers=[('ff',\n",
       "                                                                                   StandardScaler(),\n",
       "                                                                                   ['cgpa'])]))]))])"
      ]
     },
     "execution_count": 64,
     "metadata": {},
     "output_type": "execute_result"
    }
   ],
   "source": [
    "preprocessor"
   ]
  },
  {
   "cell_type": "code",
   "execution_count": 65,
   "id": "68366f28-4166-4d74-88de-487df221ff88",
   "metadata": {},
   "outputs": [],
   "source": [
    "clf = Pipeline(\n",
    "    steps=[(\"preprocessor\", preprocessor), (\"classifier\", LogisticRegression())]\n",
    ")"
   ]
  },
  {
   "cell_type": "code",
   "execution_count": 66,
   "id": "9902795d-3b58-4bea-a6f9-8a1f8a3a7aea",
   "metadata": {},
   "outputs": [
    {
     "data": {
      "text/html": [
       "<style>#sk-container-id-11 {color: black;background-color: white;}#sk-container-id-11 pre{padding: 0;}#sk-container-id-11 div.sk-toggleable {background-color: white;}#sk-container-id-11 label.sk-toggleable__label {cursor: pointer;display: block;width: 100%;margin-bottom: 0;padding: 0.3em;box-sizing: border-box;text-align: center;}#sk-container-id-11 label.sk-toggleable__label-arrow:before {content: \"▸\";float: left;margin-right: 0.25em;color: #696969;}#sk-container-id-11 label.sk-toggleable__label-arrow:hover:before {color: black;}#sk-container-id-11 div.sk-estimator:hover label.sk-toggleable__label-arrow:before {color: black;}#sk-container-id-11 div.sk-toggleable__content {max-height: 0;max-width: 0;overflow: hidden;text-align: left;background-color: #f0f8ff;}#sk-container-id-11 div.sk-toggleable__content pre {margin: 0.2em;color: black;border-radius: 0.25em;background-color: #f0f8ff;}#sk-container-id-11 input.sk-toggleable__control:checked~div.sk-toggleable__content {max-height: 200px;max-width: 100%;overflow: auto;}#sk-container-id-11 input.sk-toggleable__control:checked~label.sk-toggleable__label-arrow:before {content: \"▾\";}#sk-container-id-11 div.sk-estimator input.sk-toggleable__control:checked~label.sk-toggleable__label {background-color: #d4ebff;}#sk-container-id-11 div.sk-label input.sk-toggleable__control:checked~label.sk-toggleable__label {background-color: #d4ebff;}#sk-container-id-11 input.sk-hidden--visually {border: 0;clip: rect(1px 1px 1px 1px);clip: rect(1px, 1px, 1px, 1px);height: 1px;margin: -1px;overflow: hidden;padding: 0;position: absolute;width: 1px;}#sk-container-id-11 div.sk-estimator {font-family: monospace;background-color: #f0f8ff;border: 1px dotted black;border-radius: 0.25em;box-sizing: border-box;margin-bottom: 0.5em;}#sk-container-id-11 div.sk-estimator:hover {background-color: #d4ebff;}#sk-container-id-11 div.sk-parallel-item::after {content: \"\";width: 100%;border-bottom: 1px solid gray;flex-grow: 1;}#sk-container-id-11 div.sk-label:hover label.sk-toggleable__label {background-color: #d4ebff;}#sk-container-id-11 div.sk-serial::before {content: \"\";position: absolute;border-left: 1px solid gray;box-sizing: border-box;top: 0;bottom: 0;left: 50%;z-index: 0;}#sk-container-id-11 div.sk-serial {display: flex;flex-direction: column;align-items: center;background-color: white;padding-right: 0.2em;padding-left: 0.2em;position: relative;}#sk-container-id-11 div.sk-item {position: relative;z-index: 1;}#sk-container-id-11 div.sk-parallel {display: flex;align-items: stretch;justify-content: center;background-color: white;position: relative;}#sk-container-id-11 div.sk-item::before, #sk-container-id-11 div.sk-parallel-item::before {content: \"\";position: absolute;border-left: 1px solid gray;box-sizing: border-box;top: 0;bottom: 0;left: 50%;z-index: -1;}#sk-container-id-11 div.sk-parallel-item {display: flex;flex-direction: column;z-index: 1;position: relative;background-color: white;}#sk-container-id-11 div.sk-parallel-item:first-child::after {align-self: flex-end;width: 50%;}#sk-container-id-11 div.sk-parallel-item:last-child::after {align-self: flex-start;width: 50%;}#sk-container-id-11 div.sk-parallel-item:only-child::after {width: 0;}#sk-container-id-11 div.sk-dashed-wrapped {border: 1px dashed gray;margin: 0 0.4em 0.5em 0.4em;box-sizing: border-box;padding-bottom: 0.4em;background-color: white;}#sk-container-id-11 div.sk-label label {font-family: monospace;font-weight: bold;display: inline-block;line-height: 1.2em;}#sk-container-id-11 div.sk-label-container {text-align: center;}#sk-container-id-11 div.sk-container {/* jupyter's `normalize.less` sets `[hidden] { display: none; }` but bootstrap.min.css set `[hidden] { display: none !important; }` so we also need the `!important` here to be able to override the default hidden behavior on the sphinx rendered scikit-learn.org. See: https://github.com/scikit-learn/scikit-learn/issues/21755 */display: inline-block !important;position: relative;}#sk-container-id-11 div.sk-text-repr-fallback {display: none;}</style><div id=\"sk-container-id-11\" class=\"sk-top-container\"><div class=\"sk-text-repr-fallback\"><pre>Pipeline(steps=[(&#x27;preprocessor&#x27;,\n",
       "                 ColumnTransformer(transformers=[(&#x27;placed_cat&#x27;,\n",
       "                                                  Pipeline(steps=[(&#x27;pip_placed_cat&#x27;,\n",
       "                                                                   ColumnTransformer(transformers=[(&#x27;tt&#x27;,\n",
       "                                                                                                    OneHotEncoder(),\n",
       "                                                                                                    [&#x27;placed_cat&#x27;])]))])),\n",
       "                                                 (&#x27;cgpa&#x27;,\n",
       "                                                  Pipeline(steps=[(&#x27;pip_cgpa&#x27;,\n",
       "                                                                   ColumnTransformer(transformers=[(&#x27;ff&#x27;,\n",
       "                                                                                                    StandardScaler(),\n",
       "                                                                                                    [&#x27;cgpa&#x27;])]))]))])),\n",
       "                (&#x27;classifier&#x27;, LogisticRegression())])</pre><b>In a Jupyter environment, please rerun this cell to show the HTML representation or trust the notebook. <br />On GitHub, the HTML representation is unable to render, please try loading this page with nbviewer.org.</b></div><div class=\"sk-container\" hidden><div class=\"sk-item sk-dashed-wrapped\"><div class=\"sk-label-container\"><div class=\"sk-label sk-toggleable\"><input class=\"sk-toggleable__control sk-hidden--visually\" id=\"sk-estimator-id-70\" type=\"checkbox\" ><label for=\"sk-estimator-id-70\" class=\"sk-toggleable__label sk-toggleable__label-arrow\">Pipeline</label><div class=\"sk-toggleable__content\"><pre>Pipeline(steps=[(&#x27;preprocessor&#x27;,\n",
       "                 ColumnTransformer(transformers=[(&#x27;placed_cat&#x27;,\n",
       "                                                  Pipeline(steps=[(&#x27;pip_placed_cat&#x27;,\n",
       "                                                                   ColumnTransformer(transformers=[(&#x27;tt&#x27;,\n",
       "                                                                                                    OneHotEncoder(),\n",
       "                                                                                                    [&#x27;placed_cat&#x27;])]))])),\n",
       "                                                 (&#x27;cgpa&#x27;,\n",
       "                                                  Pipeline(steps=[(&#x27;pip_cgpa&#x27;,\n",
       "                                                                   ColumnTransformer(transformers=[(&#x27;ff&#x27;,\n",
       "                                                                                                    StandardScaler(),\n",
       "                                                                                                    [&#x27;cgpa&#x27;])]))]))])),\n",
       "                (&#x27;classifier&#x27;, LogisticRegression())])</pre></div></div></div><div class=\"sk-serial\"><div class=\"sk-item\"><div class=\"sk-estimator sk-toggleable\"><input class=\"sk-toggleable__control sk-hidden--visually\" id=\"sk-estimator-id-71\" type=\"checkbox\" ><label for=\"sk-estimator-id-71\" class=\"sk-toggleable__label sk-toggleable__label-arrow\">ColumnTransformer</label><div class=\"sk-toggleable__content\"><pre>ColumnTransformer(transformers=[(&#x27;placed_cat&#x27;,\n",
       "                                 Pipeline(steps=[(&#x27;pip_placed_cat&#x27;,\n",
       "                                                  ColumnTransformer(transformers=[(&#x27;tt&#x27;,\n",
       "                                                                                   OneHotEncoder(),\n",
       "                                                                                   [&#x27;placed_cat&#x27;])]))])),\n",
       "                                (&#x27;cgpa&#x27;,\n",
       "                                 Pipeline(steps=[(&#x27;pip_cgpa&#x27;,\n",
       "                                                  ColumnTransformer(transformers=[(&#x27;ff&#x27;,\n",
       "                                                                                   StandardScaler(),\n",
       "                                                                                   [&#x27;cgpa&#x27;])]))]))])</pre></div></div></div><div class=\"sk-item\"><div class=\"sk-estimator sk-toggleable\"><input class=\"sk-toggleable__control sk-hidden--visually\" id=\"sk-estimator-id-72\" type=\"checkbox\" ><label for=\"sk-estimator-id-72\" class=\"sk-toggleable__label sk-toggleable__label-arrow\">LogisticRegression</label><div class=\"sk-toggleable__content\"><pre>LogisticRegression()</pre></div></div></div></div></div></div></div>"
      ],
      "text/plain": [
       "Pipeline(steps=[('preprocessor',\n",
       "                 ColumnTransformer(transformers=[('placed_cat',\n",
       "                                                  Pipeline(steps=[('pip_placed_cat',\n",
       "                                                                   ColumnTransformer(transformers=[('tt',\n",
       "                                                                                                    OneHotEncoder(),\n",
       "                                                                                                    ['placed_cat'])]))])),\n",
       "                                                 ('cgpa',\n",
       "                                                  Pipeline(steps=[('pip_cgpa',\n",
       "                                                                   ColumnTransformer(transformers=[('ff',\n",
       "                                                                                                    StandardScaler(),\n",
       "                                                                                                    ['cgpa'])]))]))])),\n",
       "                ('classifier', LogisticRegression())])"
      ]
     },
     "execution_count": 66,
     "metadata": {},
     "output_type": "execute_result"
    }
   ],
   "source": [
    "clf"
   ]
  },
  {
   "cell_type": "code",
   "execution_count": null,
   "id": "80ccd319-0aab-45dc-8000-bfe770935c25",
   "metadata": {
    "scrolled": true
   },
   "outputs": [],
   "source": [
    "clf.fit(df.drop(columns=\"placed\"), df['placed'])"
   ]
  },
  {
   "cell_type": "code",
   "execution_count": 83,
   "id": "cffd2b83-5702-4775-9d9f-f6411ea2b96d",
   "metadata": {
    "scrolled": true
   },
   "outputs": [
    {
     "name": "stdout",
     "output_type": "stream",
     "text": [
      "[2023-07-06 09:14:23,210] - root - INFO - Transform data for handling outlier with transformer\n",
      "[2023-07-06 09:14:23,214] - root - INFO - Transform data for handling outlier with statistics\n"
     ]
    },
    {
     "data": {
      "text/html": [
       "<style>#sk-container-id-19 {color: black;background-color: white;}#sk-container-id-19 pre{padding: 0;}#sk-container-id-19 div.sk-toggleable {background-color: white;}#sk-container-id-19 label.sk-toggleable__label {cursor: pointer;display: block;width: 100%;margin-bottom: 0;padding: 0.3em;box-sizing: border-box;text-align: center;}#sk-container-id-19 label.sk-toggleable__label-arrow:before {content: \"▸\";float: left;margin-right: 0.25em;color: #696969;}#sk-container-id-19 label.sk-toggleable__label-arrow:hover:before {color: black;}#sk-container-id-19 div.sk-estimator:hover label.sk-toggleable__label-arrow:before {color: black;}#sk-container-id-19 div.sk-toggleable__content {max-height: 0;max-width: 0;overflow: hidden;text-align: left;background-color: #f0f8ff;}#sk-container-id-19 div.sk-toggleable__content pre {margin: 0.2em;color: black;border-radius: 0.25em;background-color: #f0f8ff;}#sk-container-id-19 input.sk-toggleable__control:checked~div.sk-toggleable__content {max-height: 200px;max-width: 100%;overflow: auto;}#sk-container-id-19 input.sk-toggleable__control:checked~label.sk-toggleable__label-arrow:before {content: \"▾\";}#sk-container-id-19 div.sk-estimator input.sk-toggleable__control:checked~label.sk-toggleable__label {background-color: #d4ebff;}#sk-container-id-19 div.sk-label input.sk-toggleable__control:checked~label.sk-toggleable__label {background-color: #d4ebff;}#sk-container-id-19 input.sk-hidden--visually {border: 0;clip: rect(1px 1px 1px 1px);clip: rect(1px, 1px, 1px, 1px);height: 1px;margin: -1px;overflow: hidden;padding: 0;position: absolute;width: 1px;}#sk-container-id-19 div.sk-estimator {font-family: monospace;background-color: #f0f8ff;border: 1px dotted black;border-radius: 0.25em;box-sizing: border-box;margin-bottom: 0.5em;}#sk-container-id-19 div.sk-estimator:hover {background-color: #d4ebff;}#sk-container-id-19 div.sk-parallel-item::after {content: \"\";width: 100%;border-bottom: 1px solid gray;flex-grow: 1;}#sk-container-id-19 div.sk-label:hover label.sk-toggleable__label {background-color: #d4ebff;}#sk-container-id-19 div.sk-serial::before {content: \"\";position: absolute;border-left: 1px solid gray;box-sizing: border-box;top: 0;bottom: 0;left: 50%;z-index: 0;}#sk-container-id-19 div.sk-serial {display: flex;flex-direction: column;align-items: center;background-color: white;padding-right: 0.2em;padding-left: 0.2em;position: relative;}#sk-container-id-19 div.sk-item {position: relative;z-index: 1;}#sk-container-id-19 div.sk-parallel {display: flex;align-items: stretch;justify-content: center;background-color: white;position: relative;}#sk-container-id-19 div.sk-item::before, #sk-container-id-19 div.sk-parallel-item::before {content: \"\";position: absolute;border-left: 1px solid gray;box-sizing: border-box;top: 0;bottom: 0;left: 50%;z-index: -1;}#sk-container-id-19 div.sk-parallel-item {display: flex;flex-direction: column;z-index: 1;position: relative;background-color: white;}#sk-container-id-19 div.sk-parallel-item:first-child::after {align-self: flex-end;width: 50%;}#sk-container-id-19 div.sk-parallel-item:last-child::after {align-self: flex-start;width: 50%;}#sk-container-id-19 div.sk-parallel-item:only-child::after {width: 0;}#sk-container-id-19 div.sk-dashed-wrapped {border: 1px dashed gray;margin: 0 0.4em 0.5em 0.4em;box-sizing: border-box;padding-bottom: 0.4em;background-color: white;}#sk-container-id-19 div.sk-label label {font-family: monospace;font-weight: bold;display: inline-block;line-height: 1.2em;}#sk-container-id-19 div.sk-label-container {text-align: center;}#sk-container-id-19 div.sk-container {/* jupyter's `normalize.less` sets `[hidden] { display: none; }` but bootstrap.min.css set `[hidden] { display: none !important; }` so we also need the `!important` here to be able to override the default hidden behavior on the sphinx rendered scikit-learn.org. See: https://github.com/scikit-learn/scikit-learn/issues/21755 */display: inline-block !important;position: relative;}#sk-container-id-19 div.sk-text-repr-fallback {display: none;}</style><div id=\"sk-container-id-19\" class=\"sk-top-container\"><div class=\"sk-text-repr-fallback\"><pre>Pipeline(steps=[(&#x27;preprocessor&#x27;,\n",
       "                 ColumnTransformer(transformers=[(&#x27;placed_cat&#x27;,\n",
       "                                                  OutlierHandler(transformer=&#x27;sqrt&#x27;),\n",
       "                                                  [&#x27;placement_exam_marks&#x27;]),\n",
       "                                                 (&#x27;cgpa_wind&#x27;,\n",
       "                                                  OutlierHandler(statistics=&#x27;winsorization&#x27;,\n",
       "                                                                 strategy=&#x27;statistics&#x27;),\n",
       "                                                  [&#x27;cgpa&#x27;]),\n",
       "                                                 (&#x27;cgpa&#x27;, StandardScaler(),\n",
       "                                                  [&#x27;cgpa&#x27;])])),\n",
       "                (&#x27;classifier&#x27;, LogisticRegression())])</pre><b>In a Jupyter environment, please rerun this cell to show the HTML representation or trust the notebook. <br />On GitHub, the HTML representation is unable to render, please try loading this page with nbviewer.org.</b></div><div class=\"sk-container\" hidden><div class=\"sk-item sk-dashed-wrapped\"><div class=\"sk-label-container\"><div class=\"sk-label sk-toggleable\"><input class=\"sk-toggleable__control sk-hidden--visually\" id=\"sk-estimator-id-130\" type=\"checkbox\" ><label for=\"sk-estimator-id-130\" class=\"sk-toggleable__label sk-toggleable__label-arrow\">Pipeline</label><div class=\"sk-toggleable__content\"><pre>Pipeline(steps=[(&#x27;preprocessor&#x27;,\n",
       "                 ColumnTransformer(transformers=[(&#x27;placed_cat&#x27;,\n",
       "                                                  OutlierHandler(transformer=&#x27;sqrt&#x27;),\n",
       "                                                  [&#x27;placement_exam_marks&#x27;]),\n",
       "                                                 (&#x27;cgpa_wind&#x27;,\n",
       "                                                  OutlierHandler(statistics=&#x27;winsorization&#x27;,\n",
       "                                                                 strategy=&#x27;statistics&#x27;),\n",
       "                                                  [&#x27;cgpa&#x27;]),\n",
       "                                                 (&#x27;cgpa&#x27;, StandardScaler(),\n",
       "                                                  [&#x27;cgpa&#x27;])])),\n",
       "                (&#x27;classifier&#x27;, LogisticRegression())])</pre></div></div></div><div class=\"sk-serial\"><div class=\"sk-item sk-dashed-wrapped\"><div class=\"sk-label-container\"><div class=\"sk-label sk-toggleable\"><input class=\"sk-toggleable__control sk-hidden--visually\" id=\"sk-estimator-id-131\" type=\"checkbox\" ><label for=\"sk-estimator-id-131\" class=\"sk-toggleable__label sk-toggleable__label-arrow\">preprocessor: ColumnTransformer</label><div class=\"sk-toggleable__content\"><pre>ColumnTransformer(transformers=[(&#x27;placed_cat&#x27;,\n",
       "                                 OutlierHandler(transformer=&#x27;sqrt&#x27;),\n",
       "                                 [&#x27;placement_exam_marks&#x27;]),\n",
       "                                (&#x27;cgpa_wind&#x27;,\n",
       "                                 OutlierHandler(statistics=&#x27;winsorization&#x27;,\n",
       "                                                strategy=&#x27;statistics&#x27;),\n",
       "                                 [&#x27;cgpa&#x27;]),\n",
       "                                (&#x27;cgpa&#x27;, StandardScaler(), [&#x27;cgpa&#x27;])])</pre></div></div></div><div class=\"sk-parallel\"><div class=\"sk-parallel-item\"><div class=\"sk-item\"><div class=\"sk-label-container\"><div class=\"sk-label sk-toggleable\"><input class=\"sk-toggleable__control sk-hidden--visually\" id=\"sk-estimator-id-132\" type=\"checkbox\" ><label for=\"sk-estimator-id-132\" class=\"sk-toggleable__label sk-toggleable__label-arrow\">placed_cat</label><div class=\"sk-toggleable__content\"><pre>[&#x27;placement_exam_marks&#x27;]</pre></div></div></div><div class=\"sk-serial\"><div class=\"sk-item\"><div class=\"sk-estimator sk-toggleable\"><input class=\"sk-toggleable__control sk-hidden--visually\" id=\"sk-estimator-id-133\" type=\"checkbox\" ><label for=\"sk-estimator-id-133\" class=\"sk-toggleable__label sk-toggleable__label-arrow\">OutlierHandler</label><div class=\"sk-toggleable__content\"><pre>OutlierHandler(transformer=&#x27;sqrt&#x27;)</pre></div></div></div></div></div></div><div class=\"sk-parallel-item\"><div class=\"sk-item\"><div class=\"sk-label-container\"><div class=\"sk-label sk-toggleable\"><input class=\"sk-toggleable__control sk-hidden--visually\" id=\"sk-estimator-id-134\" type=\"checkbox\" ><label for=\"sk-estimator-id-134\" class=\"sk-toggleable__label sk-toggleable__label-arrow\">cgpa_wind</label><div class=\"sk-toggleable__content\"><pre>[&#x27;cgpa&#x27;]</pre></div></div></div><div class=\"sk-serial\"><div class=\"sk-item\"><div class=\"sk-estimator sk-toggleable\"><input class=\"sk-toggleable__control sk-hidden--visually\" id=\"sk-estimator-id-135\" type=\"checkbox\" ><label for=\"sk-estimator-id-135\" class=\"sk-toggleable__label sk-toggleable__label-arrow\">OutlierHandler</label><div class=\"sk-toggleable__content\"><pre>OutlierHandler(statistics=&#x27;winsorization&#x27;, strategy=&#x27;statistics&#x27;)</pre></div></div></div></div></div></div><div class=\"sk-parallel-item\"><div class=\"sk-item\"><div class=\"sk-label-container\"><div class=\"sk-label sk-toggleable\"><input class=\"sk-toggleable__control sk-hidden--visually\" id=\"sk-estimator-id-136\" type=\"checkbox\" ><label for=\"sk-estimator-id-136\" class=\"sk-toggleable__label sk-toggleable__label-arrow\">cgpa</label><div class=\"sk-toggleable__content\"><pre>[&#x27;cgpa&#x27;]</pre></div></div></div><div class=\"sk-serial\"><div class=\"sk-item\"><div class=\"sk-estimator sk-toggleable\"><input class=\"sk-toggleable__control sk-hidden--visually\" id=\"sk-estimator-id-137\" type=\"checkbox\" ><label for=\"sk-estimator-id-137\" class=\"sk-toggleable__label sk-toggleable__label-arrow\">StandardScaler</label><div class=\"sk-toggleable__content\"><pre>StandardScaler()</pre></div></div></div></div></div></div></div></div><div class=\"sk-item\"><div class=\"sk-estimator sk-toggleable\"><input class=\"sk-toggleable__control sk-hidden--visually\" id=\"sk-estimator-id-138\" type=\"checkbox\" ><label for=\"sk-estimator-id-138\" class=\"sk-toggleable__label sk-toggleable__label-arrow\">LogisticRegression</label><div class=\"sk-toggleable__content\"><pre>LogisticRegression()</pre></div></div></div></div></div></div></div>"
      ],
      "text/plain": [
       "Pipeline(steps=[('preprocessor',\n",
       "                 ColumnTransformer(transformers=[('placed_cat',\n",
       "                                                  OutlierHandler(transformer='sqrt'),\n",
       "                                                  ['placement_exam_marks']),\n",
       "                                                 ('cgpa_wind',\n",
       "                                                  OutlierHandler(statistics='winsorization',\n",
       "                                                                 strategy='statistics'),\n",
       "                                                  ['cgpa']),\n",
       "                                                 ('cgpa', StandardScaler(),\n",
       "                                                  ['cgpa'])])),\n",
       "                ('classifier', LogisticRegression())])"
      ]
     },
     "execution_count": 83,
     "metadata": {},
     "output_type": "execute_result"
    }
   ],
   "source": [
    "from sklearn.compose import ColumnTransformer\n",
    "from sklearn.pipeline import Pipeline\n",
    "from sklearn.preprocessing import StandardScaler, OneHotEncoder\n",
    "from sklearn.linear_model import LogisticRegression\n",
    "from src.data.preparation import OutlierHandler\n",
    "# ff = ColumnTransformer(\n",
    "#     [(\"ff\", StandardScaler(), ['cgpa'])]\n",
    "# )\n",
    "# cgpa = Pipeline(\n",
    "#     steps=[\n",
    "#         ('pip_cgpa', ff)\n",
    "#     ]\n",
    "# )\n",
    "# tt = ColumnTransformer(\n",
    "#     [(\"tt\", OneHotEncoder(), ['placed_cat'])]\n",
    "# )\n",
    "# placed_cat = Pipeline(\n",
    "#     steps=[\n",
    "#         ('pip_placed_cat', tt)\n",
    "#     ]\n",
    "# )\n",
    "preprocessor = ColumnTransformer(\n",
    "    transformers=[\n",
    "        (\"placed_cat\", OutlierHandler(transformer='sqrt'), ['placement_exam_marks']),\n",
    "        (\"cgpa_wind\", OutlierHandler(strategy='statistics', statistics='winsorization'), ['cgpa']),\n",
    "        (\"cgpa\", StandardScaler(), ['cgpa']),\n",
    "    ]\n",
    ")\n",
    "clf = Pipeline(\n",
    "    steps=[(\"preprocessor\", preprocessor), (\"classifier\", LogisticRegression())]\n",
    ")\n",
    "clf.fit(df.drop(columns=\"placed\"), df['placed'])\n"
   ]
  },
  {
   "cell_type": "code",
   "execution_count": 86,
   "id": "e7d796c9-9b6c-43fd-8f85-53bc5e86d9ae",
   "metadata": {},
   "outputs": [
    {
     "data": {
      "text/plain": [
       "array([[-0.04143464, -0.39313333,  0.26103663]])"
      ]
     },
     "execution_count": 86,
     "metadata": {},
     "output_type": "execute_result"
    }
   ],
   "source": [
    "clf.named_steps.classifier.coef_"
   ]
  },
  {
   "cell_type": "code",
   "execution_count": 87,
   "id": "6b5be892-485f-4915-909b-ce82ce2b492c",
   "metadata": {},
   "outputs": [
    {
     "data": {
      "text/plain": [
       "3"
      ]
     },
     "execution_count": 87,
     "metadata": {},
     "output_type": "execute_result"
    }
   ],
   "source": [
    "clf.named_steps.classifier.n_features_in_"
   ]
  },
  {
   "cell_type": "code",
   "execution_count": 88,
   "id": "f5418791-0e21-46bc-8e4f-e2476e6c0785",
   "metadata": {},
   "outputs": [],
   "source": [
    "with open('../articfacts/models/transform_pipeline.pkl', 'rb') as file:\n",
    "    pipeline = pickle.load(file)"
   ]
  },
  {
   "cell_type": "code",
   "execution_count": 89,
   "id": "8b84c782-710c-405d-a05e-72fed9a0007f",
   "metadata": {},
   "outputs": [
    {
     "data": {
      "text/html": [
       "<style>#sk-container-id-21 {color: black;background-color: white;}#sk-container-id-21 pre{padding: 0;}#sk-container-id-21 div.sk-toggleable {background-color: white;}#sk-container-id-21 label.sk-toggleable__label {cursor: pointer;display: block;width: 100%;margin-bottom: 0;padding: 0.3em;box-sizing: border-box;text-align: center;}#sk-container-id-21 label.sk-toggleable__label-arrow:before {content: \"▸\";float: left;margin-right: 0.25em;color: #696969;}#sk-container-id-21 label.sk-toggleable__label-arrow:hover:before {color: black;}#sk-container-id-21 div.sk-estimator:hover label.sk-toggleable__label-arrow:before {color: black;}#sk-container-id-21 div.sk-toggleable__content {max-height: 0;max-width: 0;overflow: hidden;text-align: left;background-color: #f0f8ff;}#sk-container-id-21 div.sk-toggleable__content pre {margin: 0.2em;color: black;border-radius: 0.25em;background-color: #f0f8ff;}#sk-container-id-21 input.sk-toggleable__control:checked~div.sk-toggleable__content {max-height: 200px;max-width: 100%;overflow: auto;}#sk-container-id-21 input.sk-toggleable__control:checked~label.sk-toggleable__label-arrow:before {content: \"▾\";}#sk-container-id-21 div.sk-estimator input.sk-toggleable__control:checked~label.sk-toggleable__label {background-color: #d4ebff;}#sk-container-id-21 div.sk-label input.sk-toggleable__control:checked~label.sk-toggleable__label {background-color: #d4ebff;}#sk-container-id-21 input.sk-hidden--visually {border: 0;clip: rect(1px 1px 1px 1px);clip: rect(1px, 1px, 1px, 1px);height: 1px;margin: -1px;overflow: hidden;padding: 0;position: absolute;width: 1px;}#sk-container-id-21 div.sk-estimator {font-family: monospace;background-color: #f0f8ff;border: 1px dotted black;border-radius: 0.25em;box-sizing: border-box;margin-bottom: 0.5em;}#sk-container-id-21 div.sk-estimator:hover {background-color: #d4ebff;}#sk-container-id-21 div.sk-parallel-item::after {content: \"\";width: 100%;border-bottom: 1px solid gray;flex-grow: 1;}#sk-container-id-21 div.sk-label:hover label.sk-toggleable__label {background-color: #d4ebff;}#sk-container-id-21 div.sk-serial::before {content: \"\";position: absolute;border-left: 1px solid gray;box-sizing: border-box;top: 0;bottom: 0;left: 50%;z-index: 0;}#sk-container-id-21 div.sk-serial {display: flex;flex-direction: column;align-items: center;background-color: white;padding-right: 0.2em;padding-left: 0.2em;position: relative;}#sk-container-id-21 div.sk-item {position: relative;z-index: 1;}#sk-container-id-21 div.sk-parallel {display: flex;align-items: stretch;justify-content: center;background-color: white;position: relative;}#sk-container-id-21 div.sk-item::before, #sk-container-id-21 div.sk-parallel-item::before {content: \"\";position: absolute;border-left: 1px solid gray;box-sizing: border-box;top: 0;bottom: 0;left: 50%;z-index: -1;}#sk-container-id-21 div.sk-parallel-item {display: flex;flex-direction: column;z-index: 1;position: relative;background-color: white;}#sk-container-id-21 div.sk-parallel-item:first-child::after {align-self: flex-end;width: 50%;}#sk-container-id-21 div.sk-parallel-item:last-child::after {align-self: flex-start;width: 50%;}#sk-container-id-21 div.sk-parallel-item:only-child::after {width: 0;}#sk-container-id-21 div.sk-dashed-wrapped {border: 1px dashed gray;margin: 0 0.4em 0.5em 0.4em;box-sizing: border-box;padding-bottom: 0.4em;background-color: white;}#sk-container-id-21 div.sk-label label {font-family: monospace;font-weight: bold;display: inline-block;line-height: 1.2em;}#sk-container-id-21 div.sk-label-container {text-align: center;}#sk-container-id-21 div.sk-container {/* jupyter's `normalize.less` sets `[hidden] { display: none; }` but bootstrap.min.css set `[hidden] { display: none !important; }` so we also need the `!important` here to be able to override the default hidden behavior on the sphinx rendered scikit-learn.org. See: https://github.com/scikit-learn/scikit-learn/issues/21755 */display: inline-block !important;position: relative;}#sk-container-id-21 div.sk-text-repr-fallback {display: none;}</style><div id=\"sk-container-id-21\" class=\"sk-top-container\"><div class=\"sk-text-repr-fallback\"><pre>ColumnTransformer(transformers=[(&#x27;OutlierHandler_1&#x27;,\n",
       "                                 OutlierHandler(transformer=&#x27;sqrt&#x27;),\n",
       "                                 [&#x27;placement_exam_marks&#x27;]),\n",
       "                                (&#x27;OutlierHandler_2&#x27;,\n",
       "                                 OutlierHandler(statistics=&#x27;winsorization&#x27;,\n",
       "                                                strategy=&#x27;statistics&#x27;),\n",
       "                                 [&#x27;cgpa&#x27;]),\n",
       "                                (&#x27;Scaler_3&#x27;,\n",
       "                                 Scaler(method=&lt;ScalerOptions.ROBUST: &#x27;robust&#x27;&gt;),\n",
       "                                 [&#x27;placement_exam_marks&#x27;, &#x27;cgpa&#x27;])])</pre><b>In a Jupyter environment, please rerun this cell to show the HTML representation or trust the notebook. <br />On GitHub, the HTML representation is unable to render, please try loading this page with nbviewer.org.</b></div><div class=\"sk-container\" hidden><div class=\"sk-item sk-dashed-wrapped\"><div class=\"sk-label-container\"><div class=\"sk-label sk-toggleable\"><input class=\"sk-toggleable__control sk-hidden--visually\" id=\"sk-estimator-id-140\" type=\"checkbox\" ><label for=\"sk-estimator-id-140\" class=\"sk-toggleable__label sk-toggleable__label-arrow\">ColumnTransformer</label><div class=\"sk-toggleable__content\"><pre>ColumnTransformer(transformers=[(&#x27;OutlierHandler_1&#x27;,\n",
       "                                 OutlierHandler(transformer=&#x27;sqrt&#x27;),\n",
       "                                 [&#x27;placement_exam_marks&#x27;]),\n",
       "                                (&#x27;OutlierHandler_2&#x27;,\n",
       "                                 OutlierHandler(statistics=&#x27;winsorization&#x27;,\n",
       "                                                strategy=&#x27;statistics&#x27;),\n",
       "                                 [&#x27;cgpa&#x27;]),\n",
       "                                (&#x27;Scaler_3&#x27;,\n",
       "                                 Scaler(method=&lt;ScalerOptions.ROBUST: &#x27;robust&#x27;&gt;),\n",
       "                                 [&#x27;placement_exam_marks&#x27;, &#x27;cgpa&#x27;])])</pre></div></div></div><div class=\"sk-parallel\"><div class=\"sk-parallel-item\"><div class=\"sk-item\"><div class=\"sk-label-container\"><div class=\"sk-label sk-toggleable\"><input class=\"sk-toggleable__control sk-hidden--visually\" id=\"sk-estimator-id-141\" type=\"checkbox\" ><label for=\"sk-estimator-id-141\" class=\"sk-toggleable__label sk-toggleable__label-arrow\">OutlierHandler_1</label><div class=\"sk-toggleable__content\"><pre>[&#x27;placement_exam_marks&#x27;]</pre></div></div></div><div class=\"sk-serial\"><div class=\"sk-item\"><div class=\"sk-estimator sk-toggleable\"><input class=\"sk-toggleable__control sk-hidden--visually\" id=\"sk-estimator-id-142\" type=\"checkbox\" ><label for=\"sk-estimator-id-142\" class=\"sk-toggleable__label sk-toggleable__label-arrow\">OutlierHandler</label><div class=\"sk-toggleable__content\"><pre>OutlierHandler(transformer=&#x27;sqrt&#x27;)</pre></div></div></div></div></div></div><div class=\"sk-parallel-item\"><div class=\"sk-item\"><div class=\"sk-label-container\"><div class=\"sk-label sk-toggleable\"><input class=\"sk-toggleable__control sk-hidden--visually\" id=\"sk-estimator-id-143\" type=\"checkbox\" ><label for=\"sk-estimator-id-143\" class=\"sk-toggleable__label sk-toggleable__label-arrow\">OutlierHandler_2</label><div class=\"sk-toggleable__content\"><pre>[&#x27;cgpa&#x27;]</pre></div></div></div><div class=\"sk-serial\"><div class=\"sk-item\"><div class=\"sk-estimator sk-toggleable\"><input class=\"sk-toggleable__control sk-hidden--visually\" id=\"sk-estimator-id-144\" type=\"checkbox\" ><label for=\"sk-estimator-id-144\" class=\"sk-toggleable__label sk-toggleable__label-arrow\">OutlierHandler</label><div class=\"sk-toggleable__content\"><pre>OutlierHandler(statistics=&#x27;winsorization&#x27;, strategy=&#x27;statistics&#x27;)</pre></div></div></div></div></div></div><div class=\"sk-parallel-item\"><div class=\"sk-item\"><div class=\"sk-label-container\"><div class=\"sk-label sk-toggleable\"><input class=\"sk-toggleable__control sk-hidden--visually\" id=\"sk-estimator-id-145\" type=\"checkbox\" ><label for=\"sk-estimator-id-145\" class=\"sk-toggleable__label sk-toggleable__label-arrow\">Scaler_3</label><div class=\"sk-toggleable__content\"><pre>[&#x27;placement_exam_marks&#x27;, &#x27;cgpa&#x27;]</pre></div></div></div><div class=\"sk-serial\"><div class=\"sk-item\"><div class=\"sk-estimator sk-toggleable\"><input class=\"sk-toggleable__control sk-hidden--visually\" id=\"sk-estimator-id-146\" type=\"checkbox\" ><label for=\"sk-estimator-id-146\" class=\"sk-toggleable__label sk-toggleable__label-arrow\">Scaler</label><div class=\"sk-toggleable__content\"><pre>Scaler(method=&lt;ScalerOptions.ROBUST: &#x27;robust&#x27;&gt;)</pre></div></div></div></div></div></div></div></div></div></div>"
      ],
      "text/plain": [
       "ColumnTransformer(transformers=[('OutlierHandler_1',\n",
       "                                 OutlierHandler(transformer='sqrt'),\n",
       "                                 ['placement_exam_marks']),\n",
       "                                ('OutlierHandler_2',\n",
       "                                 OutlierHandler(statistics='winsorization',\n",
       "                                                strategy='statistics'),\n",
       "                                 ['cgpa']),\n",
       "                                ('Scaler_3',\n",
       "                                 Scaler(method=<ScalerOptions.ROBUST: 'robust'>),\n",
       "                                 ['placement_exam_marks', 'cgpa'])])"
      ]
     },
     "execution_count": 89,
     "metadata": {},
     "output_type": "execute_result"
    }
   ],
   "source": [
    "pipeline"
   ]
  },
  {
   "cell_type": "code",
   "execution_count": 90,
   "id": "58776161-e798-40be-a15c-0cc7f6ff7a15",
   "metadata": {},
   "outputs": [
    {
     "name": "stdout",
     "output_type": "stream",
     "text": [
      "[2023-07-06 09:27:28,245] - root - INFO - Transform data for handling outlier with transformer\n",
      "[2023-07-06 09:27:28,250] - root - INFO - Transform data for handling outlier with statistics\n"
     ]
    },
    {
     "data": {
      "text/html": [
       "<style>#sk-container-id-22 {color: black;background-color: white;}#sk-container-id-22 pre{padding: 0;}#sk-container-id-22 div.sk-toggleable {background-color: white;}#sk-container-id-22 label.sk-toggleable__label {cursor: pointer;display: block;width: 100%;margin-bottom: 0;padding: 0.3em;box-sizing: border-box;text-align: center;}#sk-container-id-22 label.sk-toggleable__label-arrow:before {content: \"▸\";float: left;margin-right: 0.25em;color: #696969;}#sk-container-id-22 label.sk-toggleable__label-arrow:hover:before {color: black;}#sk-container-id-22 div.sk-estimator:hover label.sk-toggleable__label-arrow:before {color: black;}#sk-container-id-22 div.sk-toggleable__content {max-height: 0;max-width: 0;overflow: hidden;text-align: left;background-color: #f0f8ff;}#sk-container-id-22 div.sk-toggleable__content pre {margin: 0.2em;color: black;border-radius: 0.25em;background-color: #f0f8ff;}#sk-container-id-22 input.sk-toggleable__control:checked~div.sk-toggleable__content {max-height: 200px;max-width: 100%;overflow: auto;}#sk-container-id-22 input.sk-toggleable__control:checked~label.sk-toggleable__label-arrow:before {content: \"▾\";}#sk-container-id-22 div.sk-estimator input.sk-toggleable__control:checked~label.sk-toggleable__label {background-color: #d4ebff;}#sk-container-id-22 div.sk-label input.sk-toggleable__control:checked~label.sk-toggleable__label {background-color: #d4ebff;}#sk-container-id-22 input.sk-hidden--visually {border: 0;clip: rect(1px 1px 1px 1px);clip: rect(1px, 1px, 1px, 1px);height: 1px;margin: -1px;overflow: hidden;padding: 0;position: absolute;width: 1px;}#sk-container-id-22 div.sk-estimator {font-family: monospace;background-color: #f0f8ff;border: 1px dotted black;border-radius: 0.25em;box-sizing: border-box;margin-bottom: 0.5em;}#sk-container-id-22 div.sk-estimator:hover {background-color: #d4ebff;}#sk-container-id-22 div.sk-parallel-item::after {content: \"\";width: 100%;border-bottom: 1px solid gray;flex-grow: 1;}#sk-container-id-22 div.sk-label:hover label.sk-toggleable__label {background-color: #d4ebff;}#sk-container-id-22 div.sk-serial::before {content: \"\";position: absolute;border-left: 1px solid gray;box-sizing: border-box;top: 0;bottom: 0;left: 50%;z-index: 0;}#sk-container-id-22 div.sk-serial {display: flex;flex-direction: column;align-items: center;background-color: white;padding-right: 0.2em;padding-left: 0.2em;position: relative;}#sk-container-id-22 div.sk-item {position: relative;z-index: 1;}#sk-container-id-22 div.sk-parallel {display: flex;align-items: stretch;justify-content: center;background-color: white;position: relative;}#sk-container-id-22 div.sk-item::before, #sk-container-id-22 div.sk-parallel-item::before {content: \"\";position: absolute;border-left: 1px solid gray;box-sizing: border-box;top: 0;bottom: 0;left: 50%;z-index: -1;}#sk-container-id-22 div.sk-parallel-item {display: flex;flex-direction: column;z-index: 1;position: relative;background-color: white;}#sk-container-id-22 div.sk-parallel-item:first-child::after {align-self: flex-end;width: 50%;}#sk-container-id-22 div.sk-parallel-item:last-child::after {align-self: flex-start;width: 50%;}#sk-container-id-22 div.sk-parallel-item:only-child::after {width: 0;}#sk-container-id-22 div.sk-dashed-wrapped {border: 1px dashed gray;margin: 0 0.4em 0.5em 0.4em;box-sizing: border-box;padding-bottom: 0.4em;background-color: white;}#sk-container-id-22 div.sk-label label {font-family: monospace;font-weight: bold;display: inline-block;line-height: 1.2em;}#sk-container-id-22 div.sk-label-container {text-align: center;}#sk-container-id-22 div.sk-container {/* jupyter's `normalize.less` sets `[hidden] { display: none; }` but bootstrap.min.css set `[hidden] { display: none !important; }` so we also need the `!important` here to be able to override the default hidden behavior on the sphinx rendered scikit-learn.org. See: https://github.com/scikit-learn/scikit-learn/issues/21755 */display: inline-block !important;position: relative;}#sk-container-id-22 div.sk-text-repr-fallback {display: none;}</style><div id=\"sk-container-id-22\" class=\"sk-top-container\"><div class=\"sk-text-repr-fallback\"><pre>Pipeline(steps=[(&#x27;preprocessor&#x27;,\n",
       "                 ColumnTransformer(transformers=[(&#x27;OutlierHandler_1&#x27;,\n",
       "                                                  OutlierHandler(transformer=&#x27;sqrt&#x27;),\n",
       "                                                  [&#x27;placement_exam_marks&#x27;]),\n",
       "                                                 (&#x27;OutlierHandler_2&#x27;,\n",
       "                                                  OutlierHandler(statistics=&#x27;winsorization&#x27;,\n",
       "                                                                 strategy=&#x27;statistics&#x27;),\n",
       "                                                  [&#x27;cgpa&#x27;]),\n",
       "                                                 (&#x27;Scaler_3&#x27;,\n",
       "                                                  Scaler(method=&lt;ScalerOptions.ROBUST: &#x27;robust&#x27;&gt;),\n",
       "                                                  [&#x27;placement_exam_marks&#x27;,\n",
       "                                                   &#x27;cgpa&#x27;])])),\n",
       "                (&#x27;classifier&#x27;, LogisticRegression())])</pre><b>In a Jupyter environment, please rerun this cell to show the HTML representation or trust the notebook. <br />On GitHub, the HTML representation is unable to render, please try loading this page with nbviewer.org.</b></div><div class=\"sk-container\" hidden><div class=\"sk-item sk-dashed-wrapped\"><div class=\"sk-label-container\"><div class=\"sk-label sk-toggleable\"><input class=\"sk-toggleable__control sk-hidden--visually\" id=\"sk-estimator-id-147\" type=\"checkbox\" ><label for=\"sk-estimator-id-147\" class=\"sk-toggleable__label sk-toggleable__label-arrow\">Pipeline</label><div class=\"sk-toggleable__content\"><pre>Pipeline(steps=[(&#x27;preprocessor&#x27;,\n",
       "                 ColumnTransformer(transformers=[(&#x27;OutlierHandler_1&#x27;,\n",
       "                                                  OutlierHandler(transformer=&#x27;sqrt&#x27;),\n",
       "                                                  [&#x27;placement_exam_marks&#x27;]),\n",
       "                                                 (&#x27;OutlierHandler_2&#x27;,\n",
       "                                                  OutlierHandler(statistics=&#x27;winsorization&#x27;,\n",
       "                                                                 strategy=&#x27;statistics&#x27;),\n",
       "                                                  [&#x27;cgpa&#x27;]),\n",
       "                                                 (&#x27;Scaler_3&#x27;,\n",
       "                                                  Scaler(method=&lt;ScalerOptions.ROBUST: &#x27;robust&#x27;&gt;),\n",
       "                                                  [&#x27;placement_exam_marks&#x27;,\n",
       "                                                   &#x27;cgpa&#x27;])])),\n",
       "                (&#x27;classifier&#x27;, LogisticRegression())])</pre></div></div></div><div class=\"sk-serial\"><div class=\"sk-item sk-dashed-wrapped\"><div class=\"sk-label-container\"><div class=\"sk-label sk-toggleable\"><input class=\"sk-toggleable__control sk-hidden--visually\" id=\"sk-estimator-id-148\" type=\"checkbox\" ><label for=\"sk-estimator-id-148\" class=\"sk-toggleable__label sk-toggleable__label-arrow\">preprocessor: ColumnTransformer</label><div class=\"sk-toggleable__content\"><pre>ColumnTransformer(transformers=[(&#x27;OutlierHandler_1&#x27;,\n",
       "                                 OutlierHandler(transformer=&#x27;sqrt&#x27;),\n",
       "                                 [&#x27;placement_exam_marks&#x27;]),\n",
       "                                (&#x27;OutlierHandler_2&#x27;,\n",
       "                                 OutlierHandler(statistics=&#x27;winsorization&#x27;,\n",
       "                                                strategy=&#x27;statistics&#x27;),\n",
       "                                 [&#x27;cgpa&#x27;]),\n",
       "                                (&#x27;Scaler_3&#x27;,\n",
       "                                 Scaler(method=&lt;ScalerOptions.ROBUST: &#x27;robust&#x27;&gt;),\n",
       "                                 [&#x27;placement_exam_marks&#x27;, &#x27;cgpa&#x27;])])</pre></div></div></div><div class=\"sk-parallel\"><div class=\"sk-parallel-item\"><div class=\"sk-item\"><div class=\"sk-label-container\"><div class=\"sk-label sk-toggleable\"><input class=\"sk-toggleable__control sk-hidden--visually\" id=\"sk-estimator-id-149\" type=\"checkbox\" ><label for=\"sk-estimator-id-149\" class=\"sk-toggleable__label sk-toggleable__label-arrow\">OutlierHandler_1</label><div class=\"sk-toggleable__content\"><pre>[&#x27;placement_exam_marks&#x27;]</pre></div></div></div><div class=\"sk-serial\"><div class=\"sk-item\"><div class=\"sk-estimator sk-toggleable\"><input class=\"sk-toggleable__control sk-hidden--visually\" id=\"sk-estimator-id-150\" type=\"checkbox\" ><label for=\"sk-estimator-id-150\" class=\"sk-toggleable__label sk-toggleable__label-arrow\">OutlierHandler</label><div class=\"sk-toggleable__content\"><pre>OutlierHandler(transformer=&#x27;sqrt&#x27;)</pre></div></div></div></div></div></div><div class=\"sk-parallel-item\"><div class=\"sk-item\"><div class=\"sk-label-container\"><div class=\"sk-label sk-toggleable\"><input class=\"sk-toggleable__control sk-hidden--visually\" id=\"sk-estimator-id-151\" type=\"checkbox\" ><label for=\"sk-estimator-id-151\" class=\"sk-toggleable__label sk-toggleable__label-arrow\">OutlierHandler_2</label><div class=\"sk-toggleable__content\"><pre>[&#x27;cgpa&#x27;]</pre></div></div></div><div class=\"sk-serial\"><div class=\"sk-item\"><div class=\"sk-estimator sk-toggleable\"><input class=\"sk-toggleable__control sk-hidden--visually\" id=\"sk-estimator-id-152\" type=\"checkbox\" ><label for=\"sk-estimator-id-152\" class=\"sk-toggleable__label sk-toggleable__label-arrow\">OutlierHandler</label><div class=\"sk-toggleable__content\"><pre>OutlierHandler(statistics=&#x27;winsorization&#x27;, strategy=&#x27;statistics&#x27;)</pre></div></div></div></div></div></div><div class=\"sk-parallel-item\"><div class=\"sk-item\"><div class=\"sk-label-container\"><div class=\"sk-label sk-toggleable\"><input class=\"sk-toggleable__control sk-hidden--visually\" id=\"sk-estimator-id-153\" type=\"checkbox\" ><label for=\"sk-estimator-id-153\" class=\"sk-toggleable__label sk-toggleable__label-arrow\">Scaler_3</label><div class=\"sk-toggleable__content\"><pre>[&#x27;placement_exam_marks&#x27;, &#x27;cgpa&#x27;]</pre></div></div></div><div class=\"sk-serial\"><div class=\"sk-item\"><div class=\"sk-estimator sk-toggleable\"><input class=\"sk-toggleable__control sk-hidden--visually\" id=\"sk-estimator-id-154\" type=\"checkbox\" ><label for=\"sk-estimator-id-154\" class=\"sk-toggleable__label sk-toggleable__label-arrow\">Scaler</label><div class=\"sk-toggleable__content\"><pre>Scaler(method=&lt;ScalerOptions.ROBUST: &#x27;robust&#x27;&gt;)</pre></div></div></div></div></div></div></div></div><div class=\"sk-item\"><div class=\"sk-estimator sk-toggleable\"><input class=\"sk-toggleable__control sk-hidden--visually\" id=\"sk-estimator-id-155\" type=\"checkbox\" ><label for=\"sk-estimator-id-155\" class=\"sk-toggleable__label sk-toggleable__label-arrow\">LogisticRegression</label><div class=\"sk-toggleable__content\"><pre>LogisticRegression()</pre></div></div></div></div></div></div></div>"
      ],
      "text/plain": [
       "Pipeline(steps=[('preprocessor',\n",
       "                 ColumnTransformer(transformers=[('OutlierHandler_1',\n",
       "                                                  OutlierHandler(transformer='sqrt'),\n",
       "                                                  ['placement_exam_marks']),\n",
       "                                                 ('OutlierHandler_2',\n",
       "                                                  OutlierHandler(statistics='winsorization',\n",
       "                                                                 strategy='statistics'),\n",
       "                                                  ['cgpa']),\n",
       "                                                 ('Scaler_3',\n",
       "                                                  Scaler(method=<ScalerOptions.ROBUST: 'robust'>),\n",
       "                                                  ['placement_exam_marks',\n",
       "                                                   'cgpa'])])),\n",
       "                ('classifier', LogisticRegression())])"
      ]
     },
     "execution_count": 90,
     "metadata": {},
     "output_type": "execute_result"
    }
   ],
   "source": [
    "clf = Pipeline(\n",
    "    steps=[(\"preprocessor\", pipeline), (\"classifier\", LogisticRegression())]\n",
    ")\n",
    "clf.fit(df.drop(columns=\"placed\"), df['placed'])"
   ]
  },
  {
   "cell_type": "code",
   "execution_count": 80,
   "id": "a85f033a-22bf-4f80-b794-aceec879c738",
   "metadata": {},
   "outputs": [
    {
     "data": {
      "text/html": [
       "<style>#sk-container-id-17 {color: black;background-color: white;}#sk-container-id-17 pre{padding: 0;}#sk-container-id-17 div.sk-toggleable {background-color: white;}#sk-container-id-17 label.sk-toggleable__label {cursor: pointer;display: block;width: 100%;margin-bottom: 0;padding: 0.3em;box-sizing: border-box;text-align: center;}#sk-container-id-17 label.sk-toggleable__label-arrow:before {content: \"▸\";float: left;margin-right: 0.25em;color: #696969;}#sk-container-id-17 label.sk-toggleable__label-arrow:hover:before {color: black;}#sk-container-id-17 div.sk-estimator:hover label.sk-toggleable__label-arrow:before {color: black;}#sk-container-id-17 div.sk-toggleable__content {max-height: 0;max-width: 0;overflow: hidden;text-align: left;background-color: #f0f8ff;}#sk-container-id-17 div.sk-toggleable__content pre {margin: 0.2em;color: black;border-radius: 0.25em;background-color: #f0f8ff;}#sk-container-id-17 input.sk-toggleable__control:checked~div.sk-toggleable__content {max-height: 200px;max-width: 100%;overflow: auto;}#sk-container-id-17 input.sk-toggleable__control:checked~label.sk-toggleable__label-arrow:before {content: \"▾\";}#sk-container-id-17 div.sk-estimator input.sk-toggleable__control:checked~label.sk-toggleable__label {background-color: #d4ebff;}#sk-container-id-17 div.sk-label input.sk-toggleable__control:checked~label.sk-toggleable__label {background-color: #d4ebff;}#sk-container-id-17 input.sk-hidden--visually {border: 0;clip: rect(1px 1px 1px 1px);clip: rect(1px, 1px, 1px, 1px);height: 1px;margin: -1px;overflow: hidden;padding: 0;position: absolute;width: 1px;}#sk-container-id-17 div.sk-estimator {font-family: monospace;background-color: #f0f8ff;border: 1px dotted black;border-radius: 0.25em;box-sizing: border-box;margin-bottom: 0.5em;}#sk-container-id-17 div.sk-estimator:hover {background-color: #d4ebff;}#sk-container-id-17 div.sk-parallel-item::after {content: \"\";width: 100%;border-bottom: 1px solid gray;flex-grow: 1;}#sk-container-id-17 div.sk-label:hover label.sk-toggleable__label {background-color: #d4ebff;}#sk-container-id-17 div.sk-serial::before {content: \"\";position: absolute;border-left: 1px solid gray;box-sizing: border-box;top: 0;bottom: 0;left: 50%;z-index: 0;}#sk-container-id-17 div.sk-serial {display: flex;flex-direction: column;align-items: center;background-color: white;padding-right: 0.2em;padding-left: 0.2em;position: relative;}#sk-container-id-17 div.sk-item {position: relative;z-index: 1;}#sk-container-id-17 div.sk-parallel {display: flex;align-items: stretch;justify-content: center;background-color: white;position: relative;}#sk-container-id-17 div.sk-item::before, #sk-container-id-17 div.sk-parallel-item::before {content: \"\";position: absolute;border-left: 1px solid gray;box-sizing: border-box;top: 0;bottom: 0;left: 50%;z-index: -1;}#sk-container-id-17 div.sk-parallel-item {display: flex;flex-direction: column;z-index: 1;position: relative;background-color: white;}#sk-container-id-17 div.sk-parallel-item:first-child::after {align-self: flex-end;width: 50%;}#sk-container-id-17 div.sk-parallel-item:last-child::after {align-self: flex-start;width: 50%;}#sk-container-id-17 div.sk-parallel-item:only-child::after {width: 0;}#sk-container-id-17 div.sk-dashed-wrapped {border: 1px dashed gray;margin: 0 0.4em 0.5em 0.4em;box-sizing: border-box;padding-bottom: 0.4em;background-color: white;}#sk-container-id-17 div.sk-label label {font-family: monospace;font-weight: bold;display: inline-block;line-height: 1.2em;}#sk-container-id-17 div.sk-label-container {text-align: center;}#sk-container-id-17 div.sk-container {/* jupyter's `normalize.less` sets `[hidden] { display: none; }` but bootstrap.min.css set `[hidden] { display: none !important; }` so we also need the `!important` here to be able to override the default hidden behavior on the sphinx rendered scikit-learn.org. See: https://github.com/scikit-learn/scikit-learn/issues/21755 */display: inline-block !important;position: relative;}#sk-container-id-17 div.sk-text-repr-fallback {display: none;}</style><div id=\"sk-container-id-17\" class=\"sk-top-container\"><div class=\"sk-text-repr-fallback\"><pre>ColumnTransformer(transformers=[(&#x27;placed_cat&#x27;,\n",
       "                                 OutlierHandler(transformer=&#x27;sqrt&#x27;),\n",
       "                                 [&#x27;placement_exam_marks&#x27;]),\n",
       "                                (&#x27;cgpa&#x27;, StandardScaler(), [&#x27;cgpa&#x27;])])</pre><b>In a Jupyter environment, please rerun this cell to show the HTML representation or trust the notebook. <br />On GitHub, the HTML representation is unable to render, please try loading this page with nbviewer.org.</b></div><div class=\"sk-container\" hidden><div class=\"sk-item sk-dashed-wrapped\"><div class=\"sk-label-container\"><div class=\"sk-label sk-toggleable\"><input class=\"sk-toggleable__control sk-hidden--visually\" id=\"sk-estimator-id-116\" type=\"checkbox\" ><label for=\"sk-estimator-id-116\" class=\"sk-toggleable__label sk-toggleable__label-arrow\">ColumnTransformer</label><div class=\"sk-toggleable__content\"><pre>ColumnTransformer(transformers=[(&#x27;placed_cat&#x27;,\n",
       "                                 OutlierHandler(transformer=&#x27;sqrt&#x27;),\n",
       "                                 [&#x27;placement_exam_marks&#x27;]),\n",
       "                                (&#x27;cgpa&#x27;, StandardScaler(), [&#x27;cgpa&#x27;])])</pre></div></div></div><div class=\"sk-parallel\"><div class=\"sk-parallel-item\"><div class=\"sk-item\"><div class=\"sk-label-container\"><div class=\"sk-label sk-toggleable\"><input class=\"sk-toggleable__control sk-hidden--visually\" id=\"sk-estimator-id-117\" type=\"checkbox\" ><label for=\"sk-estimator-id-117\" class=\"sk-toggleable__label sk-toggleable__label-arrow\">placed_cat</label><div class=\"sk-toggleable__content\"><pre>[&#x27;placement_exam_marks&#x27;]</pre></div></div></div><div class=\"sk-serial\"><div class=\"sk-item\"><div class=\"sk-estimator sk-toggleable\"><input class=\"sk-toggleable__control sk-hidden--visually\" id=\"sk-estimator-id-118\" type=\"checkbox\" ><label for=\"sk-estimator-id-118\" class=\"sk-toggleable__label sk-toggleable__label-arrow\">OutlierHandler</label><div class=\"sk-toggleable__content\"><pre>OutlierHandler(transformer=&#x27;sqrt&#x27;)</pre></div></div></div></div></div></div><div class=\"sk-parallel-item\"><div class=\"sk-item\"><div class=\"sk-label-container\"><div class=\"sk-label sk-toggleable\"><input class=\"sk-toggleable__control sk-hidden--visually\" id=\"sk-estimator-id-119\" type=\"checkbox\" ><label for=\"sk-estimator-id-119\" class=\"sk-toggleable__label sk-toggleable__label-arrow\">cgpa</label><div class=\"sk-toggleable__content\"><pre>[&#x27;cgpa&#x27;]</pre></div></div></div><div class=\"sk-serial\"><div class=\"sk-item\"><div class=\"sk-estimator sk-toggleable\"><input class=\"sk-toggleable__control sk-hidden--visually\" id=\"sk-estimator-id-120\" type=\"checkbox\" ><label for=\"sk-estimator-id-120\" class=\"sk-toggleable__label sk-toggleable__label-arrow\">StandardScaler</label><div class=\"sk-toggleable__content\"><pre>StandardScaler()</pre></div></div></div></div></div></div></div></div></div></div>"
      ],
      "text/plain": [
       "ColumnTransformer(transformers=[('placed_cat',\n",
       "                                 OutlierHandler(transformer='sqrt'),\n",
       "                                 ['placement_exam_marks']),\n",
       "                                ('cgpa', StandardScaler(), ['cgpa'])])"
      ]
     },
     "execution_count": 80,
     "metadata": {},
     "output_type": "execute_result"
    }
   ],
   "source": [
    "preprocessor"
   ]
  },
  {
   "cell_type": "code",
   "execution_count": 92,
   "id": "d3e21373-ca98-4023-a99b-20060bf46e23",
   "metadata": {},
   "outputs": [
    {
     "name": "stdout",
     "output_type": "stream",
     "text": [
      "[2023-07-06 10:11:09,878] - root - INFO - Transform data for handling outlier with transformer\n",
      "[2023-07-06 10:11:09,891] - root - INFO - Transform data for handling outlier with statistics\n"
     ]
    },
    {
     "data": {
      "text/plain": [
       "array([[ 5.09901951,  7.19      , -0.07407407,  0.2804878 ],\n",
       "       [ 6.164414  ,  7.46      ,  0.37037037,  0.6097561 ],\n",
       "       [ 6.32455532,  7.54      ,  0.44444444,  0.70731707],\n",
       "       ...,\n",
       "       [ 5.83095189,  5.5596    ,  0.22222222, -2.52439024],\n",
       "       [ 6.78232998,  5.5596    ,  0.66666667,  2.02439024],\n",
       "       [ 3.16227766,  5.5596    , -0.66666667, -2.51219512]])"
      ]
     },
     "execution_count": 92,
     "metadata": {},
     "output_type": "execute_result"
    }
   ],
   "source": [
    "pipeline.fit_transform(df.drop(columns=\"placed\"))"
   ]
  },
  {
   "cell_type": "code",
   "execution_count": 93,
   "id": "1ea18de4-272e-40a6-8d75-05a3a6221e1e",
   "metadata": {},
   "outputs": [
    {
     "data": {
      "text/html": [
       "<div>\n",
       "<style scoped>\n",
       "    .dataframe tbody tr th:only-of-type {\n",
       "        vertical-align: middle;\n",
       "    }\n",
       "\n",
       "    .dataframe tbody tr th {\n",
       "        vertical-align: top;\n",
       "    }\n",
       "\n",
       "    .dataframe thead th {\n",
       "        text-align: right;\n",
       "    }\n",
       "</style>\n",
       "<table border=\"1\" class=\"dataframe\">\n",
       "  <thead>\n",
       "    <tr style=\"text-align: right;\">\n",
       "      <th></th>\n",
       "      <th>cgpa</th>\n",
       "      <th>placement_exam_marks</th>\n",
       "      <th>placed</th>\n",
       "      <th>placed_cat</th>\n",
       "    </tr>\n",
       "  </thead>\n",
       "  <tbody>\n",
       "    <tr>\n",
       "      <th>0</th>\n",
       "      <td>7.19</td>\n",
       "      <td>26.0</td>\n",
       "      <td>1</td>\n",
       "      <td>True</td>\n",
       "    </tr>\n",
       "    <tr>\n",
       "      <th>1</th>\n",
       "      <td>7.46</td>\n",
       "      <td>38.0</td>\n",
       "      <td>1</td>\n",
       "      <td>True</td>\n",
       "    </tr>\n",
       "    <tr>\n",
       "      <th>2</th>\n",
       "      <td>7.54</td>\n",
       "      <td>40.0</td>\n",
       "      <td>1</td>\n",
       "      <td>True</td>\n",
       "    </tr>\n",
       "    <tr>\n",
       "      <th>3</th>\n",
       "      <td>6.42</td>\n",
       "      <td>8.0</td>\n",
       "      <td>1</td>\n",
       "      <td>True</td>\n",
       "    </tr>\n",
       "    <tr>\n",
       "      <th>4</th>\n",
       "      <td>7.23</td>\n",
       "      <td>17.0</td>\n",
       "      <td>0</td>\n",
       "      <td>False</td>\n",
       "    </tr>\n",
       "    <tr>\n",
       "      <th>...</th>\n",
       "      <td>...</td>\n",
       "      <td>...</td>\n",
       "      <td>...</td>\n",
       "      <td>...</td>\n",
       "    </tr>\n",
       "    <tr>\n",
       "      <th>995</th>\n",
       "      <td>8.87</td>\n",
       "      <td>44.0</td>\n",
       "      <td>1</td>\n",
       "      <td>True</td>\n",
       "    </tr>\n",
       "    <tr>\n",
       "      <th>996</th>\n",
       "      <td>9.12</td>\n",
       "      <td>65.0</td>\n",
       "      <td>1</td>\n",
       "      <td>True</td>\n",
       "    </tr>\n",
       "    <tr>\n",
       "      <th>997</th>\n",
       "      <td>4.89</td>\n",
       "      <td>34.0</td>\n",
       "      <td>0</td>\n",
       "      <td>False</td>\n",
       "    </tr>\n",
       "    <tr>\n",
       "      <th>998</th>\n",
       "      <td>8.62</td>\n",
       "      <td>46.0</td>\n",
       "      <td>1</td>\n",
       "      <td>True</td>\n",
       "    </tr>\n",
       "    <tr>\n",
       "      <th>999</th>\n",
       "      <td>4.90</td>\n",
       "      <td>10.0</td>\n",
       "      <td>1</td>\n",
       "      <td>True</td>\n",
       "    </tr>\n",
       "  </tbody>\n",
       "</table>\n",
       "<p>1000 rows × 4 columns</p>\n",
       "</div>"
      ],
      "text/plain": [
       "     cgpa  placement_exam_marks  placed  placed_cat\n",
       "0    7.19                  26.0       1        True\n",
       "1    7.46                  38.0       1        True\n",
       "2    7.54                  40.0       1        True\n",
       "3    6.42                   8.0       1        True\n",
       "4    7.23                  17.0       0       False\n",
       "..    ...                   ...     ...         ...\n",
       "995  8.87                  44.0       1        True\n",
       "996  9.12                  65.0       1        True\n",
       "997  4.89                  34.0       0       False\n",
       "998  8.62                  46.0       1        True\n",
       "999  4.90                  10.0       1        True\n",
       "\n",
       "[1000 rows x 4 columns]"
      ]
     },
     "execution_count": 93,
     "metadata": {},
     "output_type": "execute_result"
    }
   ],
   "source": [
    "df"
   ]
  },
  {
   "cell_type": "markdown",
   "id": "3798029d-d298-4733-97f6-eebf62fca162",
   "metadata": {},
   "source": [
    "### New Config"
   ]
  },
  {
   "cell_type": "code",
   "execution_count": 3,
   "id": "0af7bb39-1125-40f2-b181-93d21e2c0ad8",
   "metadata": {},
   "outputs": [],
   "source": [
    "from src.utils.train import Train\n",
    "from src.utils.configure import Config\n",
    "from src.utils.evaluate import RegressionEvaluator\n",
    "from src.utils.injection import container\n",
    "from src.data.ingestion import(\n",
    "    DataIngestion, configure_dependency_injection\n",
    ")\n",
    "from src.utils.transformer import SklearnPipelineCreator\n",
    "import matplotlib.pyplot as plt\n",
    "import pandas as pd"
   ]
  },
  {
   "cell_type": "code",
   "execution_count": 4,
   "id": "33824202-35e7-4e4c-ae6f-af6013f1d914",
   "metadata": {
    "scrolled": true
   },
   "outputs": [
    {
     "name": "stdout",
     "output_type": "stream",
     "text": [
      "[2023-07-10 13:51:21,373] - root - INFO - data is loaded from /home/ay/FullStackMLDataScience/Projects/ML_Project/data/StudentsPerformance.csv\n",
      "[2023-07-10 13:51:21,376] - root - INFO - data is splited X_train: (800, 8), X_test: (200, 8)\n",
      "[2023-07-10 13:51:21,385] - root - INFO - data is stored\n"
     ]
    }
   ],
   "source": [
    "configure_dependency_injection()\n",
    "ingestion = container.get(DataIngestion)\n",
    "PATH=\"/home/ay/FullStackMLDataScience/Projects/ML_Project/data/StudentsPerformance.csv\"\n",
    "ingestion.load_data(data_source=PATH)\n",
    "ingestion.split_data()\n",
    "PATH = \"/home/ay/FullStackMLDataScience/Projects/ML_Project/articfacts\"\n",
    "ingestion.store_split_data(output_dir=PATH)\n",
    "\n",
    "# create pipeline SklearnPipelineCreator\n",
    "params_pipeline = Config.params_config(\"pipeline_transfrom.yml\")\n",
    "proces = SklearnPipelineCreator(params_pipeline)\n",
    "\n",
    "ingestion.data_train.rename(\n",
    "    columns={\n",
    "        \"test preparation course\":\"test_preparation_course\",\n",
    "        \"race/ethnicity\":\"race_ethnicity\",\n",
    "        \"parental level of education\":\"parental_level_of_education\",\n",
    "        \"math score\":\"math_score\",\n",
    "        \"reading score\":\"reading_score\",\n",
    "        \"writing score\":\"writing_score\"\n",
    "    },\n",
    "    inplace=True\n",
    ")\n",
    "\n",
    "ingestion.data_test.rename(\n",
    "    columns={\n",
    "        \"test preparation course\":\"test_preparation_course\",\n",
    "        \"race/ethnicity\":\"race_ethnicity\",\n",
    "        \"parental level of education\":\"parental_level_of_education\",\n",
    "        \"math score\":\"math_score\",\n",
    "        \"reading score\":\"reading_score\",\n",
    "        \"writing score\":\"writing_score\"\n",
    "    },\n",
    "    inplace=True\n",
    ")\n",
    "\n",
    "X_train, y_train = ingestion.data_train.drop(columns=\"math_score\"), ingestion.data_train[\"math_score\"]\n",
    "X_test, y_test = ingestion.data_test.drop(columns=\"math_score\"), ingestion.data_test[\"math_score\"]\n",
    "\n",
    "params_models = Config.params_config(\"train_model.yml\")\n",
    "models = Train(params_models, \"regression\")"
   ]
  },
  {
   "cell_type": "code",
   "execution_count": 5,
   "id": "651234de-17b9-4c1f-8ece-2f85233f65f1",
   "metadata": {},
   "outputs": [],
   "source": [
    "X_train, X_test = proces.transformer.fit_transform(X_train), proces.transformer.fit_transform(X_test)"
   ]
  },
  {
   "cell_type": "code",
   "execution_count": 6,
   "id": "0dd17218-11a5-46b2-b966-867564bba7d4",
   "metadata": {},
   "outputs": [],
   "source": [
    "param_models = Config.params_config(\"train_model.yml\")"
   ]
  },
  {
   "cell_type": "code",
   "execution_count": 7,
   "id": "2222ab43-5e99-49eb-b8df-4907a3eddf14",
   "metadata": {},
   "outputs": [
    {
     "data": {
      "text/plain": [
       "[{'model': 'sklearn.tree.DecisionTreeRegressor',\n",
       "  'name': 'decision_tree_regressor',\n",
       "  'params': {'criterion': ['squared_error',\n",
       "    'friedman_mse',\n",
       "    'absolute_error',\n",
       "    'poisson']}},\n",
       " {'model': 'sklearn.ensemble.RandomForestRegressor',\n",
       "  'name': 'random_forest',\n",
       "  'params': {'n_estimators': [8, 16, 32, 64, 128, 256]}},\n",
       " {'model': 'sklearn.ensemble.GradientBoostingRegressor',\n",
       "  'name': 'gradient_boosting_regressor',\n",
       "  'params': {'learning_rate': [0.1, 0.01, 0.05, 0.001],\n",
       "   'subsample': [0.6, 0.7, 0.75, 0.8, 0.85, 0.9],\n",
       "   'n_estimators': [8, 16, 32, 64, 128, 256]}}]"
      ]
     },
     "execution_count": 7,
     "metadata": {},
     "output_type": "execute_result"
    }
   ],
   "source": [
    "param_models"
   ]
  },
  {
   "cell_type": "code",
   "execution_count": 8,
   "id": "5d6aad09-ea54-41cf-ae20-2e38bd878ddf",
   "metadata": {},
   "outputs": [],
   "source": [
    "evaluate = RegressionEvaluator()\n",
    "train = Train(param_models, evaluate)"
   ]
  },
  {
   "cell_type": "code",
   "execution_count": 9,
   "id": "1861c80a-e751-44ea-943a-c065e3d711f1",
   "metadata": {},
   "outputs": [],
   "source": [
    "report = train.train_models(X_train, y_train, X_test, y_test)"
   ]
  },
  {
   "cell_type": "code",
   "execution_count": 10,
   "id": "f3c4287d-0843-497f-bad8-2a53169ea0eb",
   "metadata": {},
   "outputs": [
    {
     "data": {
      "text/plain": [
       "[ReportModels(name='gradient_boosting_regressor', model=GradientBoostingRegressor(learning_rate=0.05, n_estimators=128, subsample=0.8), report=[('MSE', 36.12140821910265), ('MAE', 4.656151036686649), ('R2S', 0.8515589474612201), ('EVS', 0.8742091923077712), ('RMSE', 6.010108835878319), ('AR2S', 0.8358901696932377)])]"
      ]
     },
     "execution_count": 10,
     "metadata": {},
     "output_type": "execute_result"
    }
   ],
   "source": [
    "train.get_best_model('AR2S')"
   ]
  },
  {
   "cell_type": "code",
   "execution_count": null,
   "id": "3a3648c4-9bbb-4cd6-ad62-de78bca70e21",
   "metadata": {},
   "outputs": [],
   "source": [
    "train"
   ]
  },
  {
   "cell_type": "code",
   "execution_count": 18,
   "id": "46d65347-d2b0-413f-bda0-96966afcbd58",
   "metadata": {},
   "outputs": [
    {
     "data": {
      "text/plain": [
       "[ReportModels(name='gradient_boosting_regressor', model=GradientBoostingRegressor(n_estimators=64, subsample=0.6), report=[('Mean Squared Error', 35.877689819933124), ('Mean Absolute Error', 4.59278654202607), ('R^2 Score', 0.8525605090691271), ('Explained Variance Score', 0.8740350497569211), ('Root Mean Squared Error', 5.989798812976369), ('Adjusted R^2 Score', 0.8369974516930905)])]"
      ]
     },
     "execution_count": 18,
     "metadata": {},
     "output_type": "execute_result"
    }
   ],
   "source": [
    "get_best_models(report, \"Explained Variance Score\")"
   ]
  },
  {
   "cell_type": "code",
   "execution_count": 12,
   "id": "db55262e-f18b-4168-bdf5-dfd71dc3be7c",
   "metadata": {},
   "outputs": [
    {
     "data": {
      "image/png": "[encoded data removed]",
      "text/plain": [
       "<Figure size 640x480 with 1 Axes>"
      ]
     },
     "metadata": {},
     "output_type": "display_data"
    }
   ],
   "source": [
    "# Get feature names from training data\n",
    "features = ingestion.data_train.drop(columns=\"math_score\").columns\n",
    "# Extract importances from model\n",
    "importances = report[0].model.feature_importances_\n",
    "# Create a series with feature names and importances\n",
    "feat_imp = pd.Series(importances).sort_values()\n",
    "# Plot 10 most important features\n",
    "feat_imp.plot(kind=\"barh\")\n",
    "plt.xlabel(\"Gini Importance\")\n",
    "plt.ylabel(\"Feature\")\n",
    "plt.title(\"Feature Importance\");"
   ]
  },
  {
   "cell_type": "code",
   "execution_count": 19,
   "id": "bf01dd76-5f2f-4fd9-8459-4b92ee60b2cb",
   "metadata": {},
   "outputs": [
    {
     "data": {
      "image/png": "[encoded data removed]",
      "text/plain": [
       "<Figure size 640x480 with 1 Axes>"
      ]
     },
     "metadata": {},
     "output_type": "display_data"
    }
   ],
   "source": [
    "# Get feature names from training data\n",
    "features = ingestion.data_train.drop(columns=\"math_score\").columns\n",
    "# Extract importances from model\n",
    "importances = report[2].model.feature_importances_\n",
    "# Create a series with feature names and importances\n",
    "feat_imp = pd.Series(importances).sort_values()\n",
    "# Plot 10 most important features\n",
    "feat_imp.plot(kind=\"barh\")\n",
    "plt.xlabel(\"Gini Importance\")\n",
    "plt.ylabel(\"Feature\")\n",
    "plt.title(\"Feature Importance\");"
   ]
  },
  {
   "cell_type": "code",
   "execution_count": 26,
   "id": "4415d1b8-87e4-4a0e-8afa-5f954e33e4c1",
   "metadata": {},
   "outputs": [
    {
     "data": {
      "image/png": "[encoded data removed]",
      "text/plain": [
       "<Figure size 640x480 with 1 Axes>"
      ]
     },
     "metadata": {},
     "output_type": "display_data"
    }
   ],
   "source": [
    "# Get feature names from training data\n",
    "features = ingestion.data_train.drop(columns=\"math_score\").columns\n",
    "# Extract importances from model\n",
    "importances = report[1].model.feature_importances_\n",
    "# Create a series with feature names and importances\n",
    "feat_imp = pd.Series(importances).sort_values()\n",
    "# Plot 10 most important features\n",
    "feat_imp.plot(kind=\"barh\")\n",
    "plt.xlabel(\"Gini Importance\")\n",
    "plt.ylabel(\"Feature\")\n",
    "plt.title(\"Feature Importance\");"
   ]
  },
  {
   "cell_type": "code",
   "execution_count": 22,
   "id": "ffcc6d2e-0757-4161-b58a-9a619a15cb77",
   "metadata": {},
   "outputs": [
    {
     "data": {
      "text/plain": [
       "800"
      ]
     },
     "execution_count": 22,
     "metadata": {},
     "output_type": "execute_result"
    }
   ],
   "source": [
    "len(X_train)"
   ]
  },
  {
   "cell_type": "code",
   "execution_count": 25,
   "id": "b369e17c-89b4-434f-8d47-3ea3b93697ca",
   "metadata": {},
   "outputs": [
    {
     "data": {
      "text/plain": [
       "19"
      ]
     },
     "execution_count": 25,
     "metadata": {},
     "output_type": "execute_result"
    }
   ],
   "source": [
    "X_train.shape[1]"
   ]
  },
  {
   "cell_type": "code",
   "execution_count": 13,
   "id": "51597b26-2cb6-4317-8db4-152e36ec26a9",
   "metadata": {},
   "outputs": [
    {
     "data": {
      "text/plain": [
       "array([ 91,  53,  80,  74,  84,  81,  69,  54,  87,  51,  45,  30,  67,\n",
       "        49,  85,  65,  53,  55,  48,  56,  79,  43,  45,  36,  80,  80,\n",
       "        68,  40,  34,  49,  62,  71,  62,  76,  84,  45,  77,  69,  73,\n",
       "         0,  82,  65,  67,  54,  90,  59,  74,  29,  89,  75,  71,  64,\n",
       "        79,  48,  69,  69,  88,  58,  87,  85,  46,  71,  81,  58,  84,\n",
       "        66,  55,  59,  58,  82,  66,  81,  58,  37,  63,  77,  85,  57,\n",
       "        48,  51,  63,  45,  83,  60,  63,  62,  68,  60,  77,  28,  79,\n",
       "       100,  69,  66,  19,  75,  60,  58,  69,  56,  73,  66,  67,  64,\n",
       "        71,  70,  53,  75,  68,  44,  29,  71,  57,  45,  76,  61,  45,\n",
       "        55,  73,  78,  50,  62,  81,  64,  64,  73,  73,  67,  61,  67,\n",
       "        65,  80,  59,  88,  62,  33,  79,  84,  73,  41,  50,  58,  55,\n",
       "        45,  88,  46,  51,  75,  49,  75,  74,  61,  62,  68,  78,  71,\n",
       "        49,  59,  79,  51,  56,  76,  69,  51,  82,  73,  40,  93,  59,\n",
       "        73,  85,  76,  77,  67,  61,  27,  54,  65,  87,  70,  54,  66,\n",
       "        85,  56,  90,  70,  61,  49,  81,  87,  49,  68,  77,  78,  60,\n",
       "        52,  62,  74,  65,  61])"
      ]
     },
     "execution_count": 13,
     "metadata": {},
     "output_type": "execute_result"
    }
   ],
   "source": [
    "evaluate.y_true"
   ]
  },
  {
   "cell_type": "code",
   "execution_count": 14,
   "id": "d6553073-1fdc-47ab-80cb-e859136eccee",
   "metadata": {},
   "outputs": [
    {
     "data": {
      "text/plain": [
       "array([78.64543944, 60.88919949, 79.64109021, 77.82650704, 87.94480526,\n",
       "       78.52421296, 66.5895424 , 55.74583333, 75.23525987, 51.72633036,\n",
       "       57.04196797, 44.53718528, 68.61041392, 57.15641685, 85.294868  ,\n",
       "       71.14207763, 53.34086259, 52.2547824 , 51.53110392, 55.82354566,\n",
       "       77.47975009, 42.99200204, 62.25731888, 39.75753782, 78.57810038,\n",
       "       82.77910351, 79.08419926, 48.80688642, 36.17359553, 52.94709876,\n",
       "       66.06356901, 72.2401615 , 61.93482338, 81.92457869, 84.0936709 ,\n",
       "       48.32046846, 78.25217202, 70.42823424, 70.20281024, 13.37982104,\n",
       "       79.78985905, 69.47487683, 69.14265028, 58.92429738, 83.4610849 ,\n",
       "       63.80620425, 72.51636784, 29.93859485, 87.52204237, 72.64241151,\n",
       "       77.10619252, 69.39277389, 81.58532721, 48.03909145, 67.67985085,\n",
       "       70.76185178, 86.71498063, 60.36405248, 86.24336093, 82.78537699,\n",
       "       51.46955716, 72.1160235 , 69.94332661, 55.81499237, 86.9113837 ,\n",
       "       64.60623456, 64.72402236, 57.28961029, 58.89419838, 87.27656797,\n",
       "       72.51502641, 81.9408091 , 61.54420995, 47.96644339, 63.74298662,\n",
       "       85.12780569, 85.92480366, 61.55145381, 60.47269773, 54.81056927,\n",
       "       66.44015017, 46.68299046, 82.61708951, 68.77012103, 78.73661893,\n",
       "       55.55849902, 69.2506469 , 63.077813  , 77.30606075, 33.81160012,\n",
       "       77.05050474, 95.36312132, 65.47078887, 75.817334  , 34.62640022,\n",
       "       71.5568195 , 67.94414311, 62.47231248, 69.76398033, 57.39585664,\n",
       "       78.08210614, 65.42228265, 63.42365051, 60.2932228 , 76.05203737,\n",
       "       71.18326789, 54.82065843, 81.53938144, 72.39839836, 49.57916539,\n",
       "       40.42127044, 73.92396499, 62.41990248, 56.22003932, 75.12551218,\n",
       "       65.1839651 , 53.39694524, 54.27306749, 72.24978322, 78.91446978,\n",
       "       60.2074589 , 56.24548194, 87.03037067, 64.56272142, 61.43350484,\n",
       "       71.42080747, 68.4044921 , 65.66400854, 50.73029211, 74.50449946,\n",
       "       75.16595002, 79.72911686, 47.82342146, 93.31268561, 67.38654339,\n",
       "       37.64458444, 85.48118307, 82.4101509 , 74.76688156, 42.65028108,\n",
       "       51.71095477, 61.17290568, 60.90040837, 55.66861141, 79.57416215,\n",
       "       47.94437936, 46.92223794, 80.7444477 , 54.76183913, 78.8492204 ,\n",
       "       74.1972226 , 77.80608424, 68.35886862, 61.38951014, 87.68392614,\n",
       "       69.89987721, 45.4626296 , 66.56270791, 81.00521176, 53.03924631,\n",
       "       66.91314258, 67.20586877, 71.80304531, 57.87221463, 86.18187555,\n",
       "       76.59511308, 55.4229751 , 93.09571813, 60.10768302, 71.89605189,\n",
       "       84.933267  , 79.96378892, 82.92234972, 73.42014884, 59.28620573,\n",
       "       26.7554403 , 59.74741588, 68.45310401, 93.84672837, 70.14117606,\n",
       "       61.16682336, 62.37437663, 85.06615409, 63.66342962, 92.85269774,\n",
       "       69.33260824, 67.61320333, 62.24400571, 71.71880544, 88.28381158,\n",
       "       52.67760272, 63.30438423, 67.57165622, 68.2105601 , 54.85513756,\n",
       "       46.66423095, 64.85398883, 70.78314339, 68.50032713, 66.29416075])"
      ]
     },
     "execution_count": 14,
     "metadata": {},
     "output_type": "execute_result"
    }
   ],
   "source": [
    "evaluate.y_pred"
   ]
  },
  {
   "cell_type": "code",
   "execution_count": 14,
   "id": "b5cf5340-fb0c-47c0-bc06-deaaf5e2c7fe",
   "metadata": {},
   "outputs": [
    {
     "name": "stderr",
     "output_type": "stream",
     "text": [
      "1 a\n",
      "2 b\n"
     ]
    }
   ],
   "source": [
    "for value, name in zip([1, 2], ['a', 'b']):\n",
    "    print(value, name, file=sys.stderr)"
   ]
  },
  {
   "cell_type": "code",
   "execution_count": 12,
   "id": "d23a7a47-6bff-49e5-8a8a-11104e02900d",
   "metadata": {},
   "outputs": [
    {
     "data": {
      "text/plain": [
       "\u001b[0;31mDocstring:\u001b[0m\n",
       "print(value, ..., sep=' ', end='\\n', file=sys.stdout, flush=False)\n",
       "\n",
       "Prints the values to a stream, or to sys.stdout by default.\n",
       "Optional keyword arguments:\n",
       "file:  a file-like object (stream); defaults to the current sys.stdout.\n",
       "sep:   string inserted between values, default a space.\n",
       "end:   string appended after the last value, default a newline.\n",
       "flush: whether to forcibly flush the stream.\n",
       "\u001b[0;31mType:\u001b[0m      builtin_function_or_method"
      ]
     },
     "metadata": {},
     "output_type": "display_data"
    }
   ],
   "source": [
    "print?"
   ]
  },
  {
   "cell_type": "code",
   "execution_count": null,
   "id": "6a9e3a3b-a535-4257-af30-3ac339be8624",
   "metadata": {},
   "outputs": [],
   "source": []
  }
 ],
 "metadata": {
  "kernelspec": {
   "display_name": "Python 3 (ipykernel)",
   "language": "python",
   "name": "python3"
  },
  "language_info": {
   "codemirror_mode": {
    "name": "ipython",
    "version": 3
   },
   "file_extension": ".py",
   "mimetype": "text/x-python",
   "name": "python",
   "nbconvert_exporter": "python",
   "pygments_lexer": "ipython3",
   "version": "3.9.12"
  }
 },
 "nbformat": 4,
 "nbformat_minor": 5
}
